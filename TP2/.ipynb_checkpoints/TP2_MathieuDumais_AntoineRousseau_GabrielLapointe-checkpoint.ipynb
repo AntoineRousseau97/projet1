{
 "cells": [
  {
   "cell_type": "markdown",
   "metadata": {},
   "source": [
    "# <p style=\"text-align:center\">Travail personel 2: Résolution d'équation non-linéare</p> #"
   ]
  },
  {
   "cell_type": "markdown",
   "metadata": {},
   "source": [
    "Présenté par l'équipe 9: **Mathieu Dumais**, **Antoine Rousseau** et **Gabriel Lapointe**."
   ]
  },
  {
   "cell_type": "markdown",
   "metadata": {},
   "source": [
    "Présenté à **Philippe Després**."
   ]
  },
  {
   "cell_type": "markdown",
   "metadata": {},
   "source": [
    "Date: **26 février 2021**."
   ]
  },
  {
   "cell_type": "markdown",
   "metadata": {
    "nteract": {
     "transient": {
      "deleting": false
     }
    }
   },
   "source": [
    "\n",
    "## Question 1 ###"
   ]
  },
  {
   "cell_type": "markdown",
   "metadata": {},
   "source": [
    "Nous cherchons la position des points de rebroussement ($x$) ou, en d'autre mots, la position maximal et minimal d'une particules relativement à une autre lors  d'une interaction inter-nucléaire, en fonction de l'énergie discrète totale de l'intéraction ($\\epsilon_n$). Sachant que la vitesse est nul lorsque les extrémités de mouvement sont atteind, l'énergie consiste tout simplement à l'énergie potentiel, exprimé dans notre cas par le potentiel de Lennard-Jones:\n",
    "\\begin{equation}\n",
    "    \\Rightarrow v(x)=4\\left[\\left(\\frac{1}{x}\\right)^{12} - \\left(\\frac{1}{x}\\right)^6\\right]\n",
    "\\end{equation}\n",
    "(à noter que les énergies utilisées dans ce numéro sont des ratios de l'énergie en question par rapport à la profondeur du puit de potentiel de la liaison intermoléculaire $V_0$)\n",
    "\n",
    "Ainsi, nous pouvons isoler $x$ dans l'équation suivante:\n",
    "\\begin{equation}\n",
    "    \\Rightarrow \\epsilon_n = 4\\left[\\left(\\frac{1}{x}\\right)^{12} - \\left(\\frac{1}{x}\\right)^6\\right]\n",
    "\\end{equation}\n",
    "Nous donnant:\n",
    "\\begin{equation}\n",
    "    \\Rightarrow x = \\pm \\left[2^{1/6} \\left(-\\frac{\\sqrt{\\epsilon_n + 1} + 1}{\\epsilon_n}\\right)^{1/6}\\right]\n",
    "\\end{equation}\n",
    "\n",
    "Le dernier résultat fut solvé sur Wolfram Alpha lorsque l'énergie $\\epsilon_n\\ne 0$"
   ]
  },
  {
   "cell_type": "markdown",
   "metadata": {},
   "source": [
    "## Question 2, 3 ###\n",
    "\n",
    "Le code suivant défini une fonction (epsilon) permettant de calculer epsilon en fonction de gamma et de n. L'énergie des 20 premiers états vibrationnels (n < 20) est ensuite calculée. La figure résultante montre le potentiel de Lennard-Jones et les 20 niveaux d'énergies calculés (lignes brisés). Les points de chaque côté des lignes d'énergie correspondent aux deux points de rebroussement calculés pour chaque énergie calculé"
   ]
  },
  {
   "cell_type": "code",
   "execution_count": 12,
   "metadata": {},
   "outputs": [
    {
     "data": {
      "image/png": "[encoded data removed]",
      "text/plain": [
       "<Figure size 432x288 with 1 Axes>"
      ]
     },
     "metadata": {
      "needs_background": "light"
     },
     "output_type": "display_data"
    }
   ],
   "source": [
    "import numpy as np\n",
    "from scipy import integrate\n",
    "import matplotlib.pyplot as plt\n",
    "\n",
    "#function that defines V(x)\n",
    "def V(x):\n",
    "    return 4*((1/x)**12-(1/x)**6)\n",
    "\n",
    "#function that defines the function to integrate i.e. (E-v(x))^2\n",
    "def g(E,x):\n",
    "    v = V(x)\n",
    "    return (E - v)**(1/2), v\n",
    "\n",
    "#function defining the turning points\n",
    "def x_plusminus(E):\n",
    "    x_minus = 2**(1/6) * (np.sqrt(E+1)/E-1/E)**(1/6)\n",
    "    x_plus = 2**(1/6) * (-((np.sqrt(E+1)+1)/E))**(1/6)\n",
    "    return x_plus, x_minus\n",
    "\n",
    "#function that calculates the integral\n",
    "def f(E, gamma, n):\n",
    "    x_plus, x_minus = x_plusminus(E) \n",
    "    integral, error = integrate.quad(lambda x :g(E,x)[0], x_minus, x_plus)\n",
    "    return gamma * integral - (n+1/2)*np.pi\n",
    "\n",
    "#function that computes epsilon with gamma and n as an input\n",
    "def epsilon(gamma, n, error):\n",
    "    x1 = -1\n",
    "    x2 = -0.0000000001\n",
    "    fx1 = f(x1, gamma, n)\n",
    "    fx2 = f(x2, gamma, n)\n",
    "    N = 0\n",
    "    \n",
    "    while np.abs(x2-x1) > error:\n",
    "        x_prime = 0.5*(x1 + x2)\n",
    "        new_f = f(x_prime, gamma, n)\n",
    "        \n",
    "        if new_f == 0: \n",
    "            break\n",
    "        elif new_f*fx1 > 0:\n",
    "             x1 = x_prime\n",
    "             fx1 = new_f\n",
    "        elif new_f*fx2 > 0:\n",
    "            x2 = x_prime\n",
    "            fx2 = new_f\n",
    "\n",
    "        N += 1\n",
    "            \n",
    "    return 0.5*(x1+x2), N\n",
    "\n",
    "E_list = []\n",
    "V_list = []\n",
    "N_list = []\n",
    "n_list = list(range(20))\n",
    "x_list = np.linspace(1, 1.8, 100)\n",
    "x_plus_list = []\n",
    "x_minus_list = []\n",
    "\n",
    "#for loop that gets the energy for n < 20\n",
    "for i in n_list:\n",
    "    E, N = epsilon(150, i, 1e-8)\n",
    "    x_plus, x_minus = x_plusminus(E)\n",
    "    E_list += [E]\n",
    "    x_plus_list += [x_plus]\n",
    "    x_minus_list += [x_minus]\n",
    "    \n",
    "for i in x_list:\n",
    "    V_list += [V(i)]\n",
    "    \n",
    "#Plotting of V(x) that shows the computed energies and turning points\n",
    "plt.plot(x_list, V_list, \"k\")\n",
    "plt.xlim(0.9, 1.8)\n",
    "\n",
    "for i in range(len(E_list)):\n",
    "    plt.hlines(E_list[i], x_minus_list[i], x_plus_list[i], linestyles = '--')\n",
    "\n",
    "    if i % 2 == 0:\n",
    "        string = \"E\" + \"$_{\" + str(i + 1) + \"}$\"\n",
    "        plt.text(x_plus_list[i] + 0.025, E_list[i] - 0.05, string)\n",
    "plt.plot(x_minus_list, E_list, \"ko\")\n",
    "plt.plot(x_plus_list, E_list, \"ko\") \n",
    "plt.xlabel(\"Position (-)\")\n",
    "plt.ylabel(\"Énergie $\\epsilon_{n}$ (-) \")\n",
    "plt.show()"
   ]
  },
  {
   "cell_type": "markdown",
   "metadata": {},
   "source": [
    "## Question 4 ###\n",
    "\n",
    "Le code suivant défini une fonction qui calcule l'énergie $\\epsilon_{n}$ à l'aide de la méthode de la bissection et la méthode de la sécante. Le temps nécessaire pour calculer l'énergie des 20 premiers états vibrationnels est ensuite obtenue et comparer pour chauqe méthode. On constate que la méthode de la sécante est environ 3 fois plus rapide dans ce contexte. "
   ]
  },
  {
   "cell_type": "code",
   "execution_count": 11,
   "metadata": {},
   "outputs": [
    {
     "name": "stdout",
     "output_type": "stream",
     "text": [
      "Méthode de la bissection : 243.61109999995278 ms\n",
      "Méthode de la sécante : 79.22670000004928 ms\n"
     ]
    }
   ],
   "source": [
    "import numpy as np\n",
    "from scipy import integrate\n",
    "import timeit\n",
    "\n",
    "#function that defines V(x)\n",
    "def V(x):\n",
    "    return 4*((1/x)**12-(1/x)**6)\n",
    "\n",
    "#function that defines the function to integrate i.e. (E-v(x))^2\n",
    "def g(E,x):\n",
    "    v = V(x)\n",
    "    return (E - v)**(1/2), v\n",
    "\n",
    "#function defining the turning points\n",
    "def x_plusminus(E):\n",
    "    x_minus = 2**(1/6) * (np.sqrt(E+1)/E-1/E)**(1/6)\n",
    "    x_plus = 2**(1/6) * (-((np.sqrt(E+1)+1)/E))**(1/6)\n",
    "    return x_plus, x_minus\n",
    "\n",
    "#function that calculates the integral\n",
    "def f(E, gamma, n):\n",
    "    x_plus, x_minus = x_plusminus(E) \n",
    "    integral, error = integrate.quad(lambda x :g(E,x)[0], x_minus, x_plus)\n",
    "    return gamma * integral - (n+1/2)*3.141592\n",
    "\n",
    "#function that computes epsilon using the bissection method\n",
    "def bissection(gamma, n, error):\n",
    "    x1 = -1\n",
    "    x2 = -0.0000000001\n",
    "    fx1 = f(x1, gamma, n)\n",
    "    fx2 = f(x2, gamma, n)\n",
    "    N = 0\n",
    "    \n",
    "    while np.abs(x2-x1) > error:\n",
    "        x_prime = 0.5*(x1 + x2)\n",
    "        new_f = f(x_prime, gamma, n)\n",
    "        \n",
    "        if new_f == 0: \n",
    "            break\n",
    "        elif new_f*fx1 > 0:\n",
    "             x1 = x_prime\n",
    "             fx1 = new_f\n",
    "        elif new_f*fx2 > 0:\n",
    "            x2 = x_prime\n",
    "            fx2 = new_f\n",
    "\n",
    "        N += 1\n",
    "            \n",
    "    return 0.5*(x1+x2), N\n",
    "\n",
    "#function that computes epsilon using the secant methode\n",
    "def secant(gamma, n, error):\n",
    "    x0 = -1 \n",
    "    x1 = -0.0000000001\n",
    "    fx0 = f(x0, gamma, n)\n",
    "    fx1 = f(x1, gamma, n)\n",
    "    N = 0\n",
    "    \n",
    "    while np.abs(x1 - x0) > error:\n",
    "        N += 1\n",
    "        x_next = x1 - fx1*((x1-x0)/(fx1-fx0))\n",
    "        x0 = x1\n",
    "        fx0 = fx1\n",
    "        x1 = x_next\n",
    "        fx1 = f(x1, gamma, n)\n",
    "        \n",
    "    return x1, N\n",
    "\n",
    "#function that evaluates the time needed to compute the 20 first energies for a given algorithm\n",
    "def time_algorithm(algo_type, target):\n",
    "    E_list = []\n",
    "    start_time = timeit.default_timer()\n",
    "    \n",
    "    for i in range(20):\n",
    "        if algo_type == \"bissection\":\n",
    "            E = [bissection(150, i, target)[0]]\n",
    "                   \n",
    "        elif algo_type == \"secant\":\n",
    "            E = [secant(150, i, target)[0]]\n",
    "        \n",
    "        E_list += [E]\n",
    "        \n",
    "        end_time = timeit.default_timer()\n",
    "            \n",
    "    return (end_time-start_time)\n",
    "\n",
    "#Comparison of algorithm speed\n",
    "print(\"Méthode de la bissection : \" + str(1000 * time_algorithm(\"bissection\", 1e-8)) + \" ms\")\n",
    "print(\"Méthode de la sécante : \" + str(1000 * time_algorithm(\"secant\", 1e-8)) + \" ms\")\n"
   ]
  },
  {
   "cell_type": "markdown",
   "metadata": {},
   "source": [
    "## Question 5 ###"
   ]
  },
  {
   "cell_type": "code",
   "execution_count": 1,
   "metadata": {},
   "outputs": [
    {
     "data": {
      "image/png": "[encoded data removed]",
      "text/plain": [
       "<Figure size 432x288 with 1 Axes>"
      ]
     },
     "metadata": {
      "needs_background": "light"
     },
     "output_type": "display_data"
    }
   ],
   "source": [
    "import numpy as np\n",
    "import matplotlib.pyplot as plt\n",
    "\n",
    "R0_list = np.linspace(0, 5.7, 58) # Liste des R0 pour lesquels p sera évalué\n",
    "p_list = []\n",
    "p_initial = 1\n",
    "\n",
    "# Définition de l'équation qui modélise une pandémie\n",
    "def RHS(p,R0):\n",
    "    next_p = 1-np.exp(-R0*p) \n",
    "    return next_p\n",
    "\n",
    "# Fonction qui opère la methode de relaxation afin d'obtenir une précision voulue (target)\n",
    "def relaxation(R0, target = 1e-8):\n",
    "    p = p_initial\n",
    "    p_old = 1000\n",
    "    \n",
    "    while np.abs(p-p_old) > target:        \n",
    "        p_old = p\n",
    "        p = RHS(p, R0)    \n",
    "    \n",
    "    return p\n",
    "\n",
    "# Création de la liste ccontenant les valeurs de p correspondant aux valeurs de R0 déterminées\n",
    "for R0 in R0_list:\n",
    "    p_list += [relaxation(R0)]\n",
    "\n",
    "# Réalisation du graphique de p selon R0\n",
    "plt.plot(R0_list, p_list, \"ko\");\n",
    "plt.xlabel('$R_{0}$')\n",
    "plt.ylabel('p évalué')\n",
    "plt.show()"
   ]
  },
  {
   "cell_type": "markdown",
   "metadata": {},
   "source": [
    "## Question 6 ###"
   ]
  },
  {
   "cell_type": "markdown",
   "metadata": {},
   "source": [
    " x* est la solution de l'équation originale.\n",
    "  \n",
    " x' est la valeur du prochain estimé.\n",
    "  \n",
    " On a donc que x* = x + $\\epsilon$. $\\epsilon$ est la différence entre x et x*.\n",
    " \n",
    " Près de x*, on a que:\n",
    " \n",
    " $\\epsilon' = \\epsilon f'(x^*)$.\n",
    " \n",
    " On a donc\n",
    " \n",
    " $x^* = x + \\frac{\\epsilon'}{f'(x^*)} = x' + \\epsilon'$\n",
    " \n",
    " $x - x' = \\frac{-\\epsilon'}{f'(x^*)} + \\epsilon'$\n",
    " \n",
    " $x - x' = \\epsilon' \\left(1 - \\frac{1}{f'(x^*)}\\right)$\n",
    " \n",
    " $\\epsilon ' = \\frac{x - x'}{1 - \\frac{1}{f'(x^*)}}$.\n",
    " \n",
    " On sait que $x' = f(x)$ et que $x' = (1 + \\omega)f(x) -\\omega x$, donc:\n",
    " \n",
    " $f(x) = (1 + \\omega)f(x) - \\omega x$\n",
    " \n",
    " $f'(x) = (1 + \\omega)f'(x) - \\omega$.\n",
    " \n",
    " Ici, on suppose que $f'(x) = f'(x^*)$ puisque x est près de x*. On obtient alors:\n",
    " \n",
    " $f'(x^*) = (1 + \\omega)f'(x) - \\omega$.\n",
    " \n",
    " En substituant, on obtient:\n",
    " \n",
    " $\\epsilon ' = \\frac{x - x'}{1 - \\frac{1}{(1 + \\omega)f'(x) - \\omega}}$\n",
    " \n",
    " CQFD"
   ]
  },
  {
   "cell_type": "markdown",
   "metadata": {},
   "source": [
    "## Question 7 & 8 ###"
   ]
  },
  {
   "cell_type": "code",
   "execution_count": 2,
   "metadata": {},
   "outputs": [
    {
     "name": "stdout",
     "output_type": "stream",
     "text": [
      "nombre d'itérations nécessaire pour obtenir une précision sur p de 10e-6 par la méthode de ralaxation: 14\n",
      "nombre d'itérations nécessaire pour obtenir une précision sur p de 10e-6 par la méthode de ralaxation accélérée: 4\n"
     ]
    },
    {
     "data": {
      "image/png": "[encoded data removed]",
      "text/plain": [
       "<Figure size 432x288 with 1 Axes>"
      ]
     },
     "metadata": {
      "needs_background": "light"
     },
     "output_type": "display_data"
    }
   ],
   "source": [
    "import numpy as np\n",
    "import matplotlib.pyplot as plt\n",
    "\n",
    "\n",
    "R0 = 2\n",
    "p_list = []\n",
    "n_list = []\n",
    "p_initial = 1\n",
    "\n",
    "# Définition de l'équation qui modélise une pandémie\n",
    "def RHS(p,R0):\n",
    "    next_p = 1-np.exp(-R0*p) \n",
    "    return next_p\n",
    "\n",
    "# Fonction qui opère la methode de relaxation afin d'obtenir une précision voulue (target)\n",
    "def relaxation(R0, target = 1e-6):\n",
    "    p = p_initial\n",
    "    p_old = 1000\n",
    "    n = 0\n",
    "    \n",
    "    while np.abs(p-p_old) > target:        \n",
    "        p_old = p\n",
    "        p = RHS(p, R0)    \n",
    "        n += 1\n",
    "    \n",
    "    return p,n\n",
    "\n",
    "# Fonction qui opère la methode de relaxation accélérée afin d'obtenir une précision voulue (target)\n",
    "def relaxation_accel(R0, w, target = 1e-6):\n",
    "    p = p_initial\n",
    "    p_old = 1000\n",
    "    n = 0\n",
    "    \n",
    "    while np.abs(p-p_old) > target:        \n",
    "        p_old = p\n",
    "        p = (1+w)*RHS(p, R0) - w*p\n",
    "        n += 1\n",
    "    \n",
    "    return p, n\n",
    "\n",
    "# Liste des w pour lesquels le nombre d'itération permettant d'obtenir une précision de 10^-6 sera évalué\n",
    "w_list = np.linspace(0, 1.4, 1000)\n",
    "\n",
    "# Liste contenant le nombre d'itération permettant d'obtenir une précision de 10^-6 pour un w donné\n",
    "for w in w_list:\n",
    "    n_list += [relaxation_accel(R0, w)[1]]\n",
    "\n",
    "print(\"nombre d'itérations nécessaire pour obtenir une précision sur p de 10e-6 par la méthode de ralaxation: \" + str(relaxation(R0)[1]))\n",
    "print(\"nombre d'itérations nécessaire pour obtenir une précision sur p de 10e-6 par la méthode de ralaxation accélérée: \" + str(relaxation_accel(R0, 0.685)[1]))\n",
    "\n",
    "# Représentation graphique du nombre d'itération permettant d'obtenir une précision de 10^-6 selon w\n",
    "plt.plot(w_list, n_list, \"k\");\n",
    "plt.xlabel('$\\omega$')\n",
    "plt.ylabel(\"nb d'itérations premettant d'obtenir une précision de $10^{-6}$\")\n",
    "plt.show()"
   ]
  },
  {
   "cell_type": "markdown",
   "metadata": {},
   "source": [
    "## Question 9###"
   ]
  },
  {
   "cell_type": "markdown",
   "metadata": {},
   "source": [
    " Dans le cas où la fonction oscille autour de la valeur x* (solution exacte), un $\\omega$ < 0 peut permettre de converger plus rapidement.\n",
    "\n",
    " Par exemple: la fonction $x = \\sqrt{1 - \\log{x}}$ avec un x initial = 1/2.\n",
    "\n",
    " Les 5 premières itérations donnent: \n",
    "\n",
    " 1.3012\n",
    "\n",
    " 0.8583\n",
    "\n",
    " 1.0736\n",
    "\n",
    " 0.9637\n",
    "\n",
    " 1.0182.\n",
    "\n",
    " Ces valeurs oscillent autour de x* = 1.\n",
    "\n",
    " Un facteur $\\omega$ < 0 judicieusement choisie permet de converger vers la solution plus rapidement que la méthode de relaxation normale."
   ]
  },
  {
   "cell_type": "markdown",
   "metadata": {},
   "source": [
    "# Références"
   ]
  },
  {
   "cell_type": "markdown",
   "metadata": {},
   "source": [
    "[1] M. E. Newman, Computational Physics. CreateSpace, 2013."
   ]
  }
 ],
 "metadata": {
  "kernelspec": {
   "display_name": "Python 3",
   "language": "python",
   "name": "python3"
  },
  "language_info": {
   "codemirror_mode": {
    "name": "ipython",
    "version": 3
   },
   "file_extension": ".py",
   "mimetype": "text/x-python",
   "name": "python",
   "nbconvert_exporter": "python",
   "pygments_lexer": "ipython3",
   "version": "3.8.3"
  }
 },
 "nbformat": 4,
 "nbformat_minor": 4
}
