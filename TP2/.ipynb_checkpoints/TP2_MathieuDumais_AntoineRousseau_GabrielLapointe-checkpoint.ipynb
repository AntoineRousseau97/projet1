{
 "cells": [
  {
   "cell_type": "markdown",
   "metadata": {},
   "source": [
    "# <p style=\"text-align:center\">Travail personel 2: Résolution d'équation non-linéare</p> #"
   ]
  },
  {
   "cell_type": "markdown",
   "metadata": {},
   "source": [
    "Présenté par l'équipe 9: **Mathieu Dumais**, **Antoine Rousseau** et **Gabriel Lapointe**."
   ]
  },
  {
   "cell_type": "markdown",
   "metadata": {},
   "source": [
    "Présenté à **Philippe Després**."
   ]
  },
  {
   "cell_type": "markdown",
   "metadata": {},
   "source": [
    "Date: **26 février 2021**."
   ]
  },
  {
   "cell_type": "markdown",
   "metadata": {
    "nteract": {
     "transient": {
      "deleting": false
     }
    }
   },
   "source": [
    "\n",
    "## Question 1 ###"
   ]
  },
  {
   "cell_type": "markdown",
   "metadata": {},
   "source": [
    "\\begin{equation}\n",
    "    \\gamma\\int_{x_-}^{x_+}[\\epsilon_n - v(x)]^{1/2} dx = (n+1/2)\\pi\n",
    "\\end{equation}\n",
    "\\begin{equation}\n",
    "    \\epsilon_n = \\frac{E_n}{V_0}\n",
    "\\end{equation}\n",
    "\\begin{equation}\n",
    "    E_n = \\left[-\\frac{\\hbar^2}{2m}\\frac{d^2}{dr^2} + V(r)\\right]\n",
    "\\end{equation}\n",
    "\\begin{equation}\n",
    "    v(x) = 4\\left[(\\frac{1}{x})^{12} - (\\frac{1}{x})^6\\right]\n",
    "\\end{equation}\n",
    "\\begin{equation}\n",
    "    v(x) = 4V_0\\left[(\\frac{1}{x})^{12} - (\\frac{1}{x})^6\\right]\n",
    "\\end{equation}\n",
    "\\begin{equation}\n",
    "    x = \\frac{r}{\\sigma}\n",
    "\\end{equation}\n",
    "\\begin{equation}\n",
    "    \\gamma = \\left(\\frac{2\\mu\\sigma^2V_0}{\\hbar^2}\\right)^{1/2}\n",
    "\\end{equation}"
   ]
  },
  {
   "cell_type": "markdown",
   "metadata": {},
   "source": [
    "## Question 2 ###"
   ]
  },
  {
   "cell_type": "markdown",
   "metadata": {},
   "source": [
    "## Question 3 ###"
   ]
  },
  {
   "cell_type": "markdown",
   "metadata": {},
   "source": [
    "## Question 4 ###"
   ]
  },
  {
   "cell_type": "markdown",
   "metadata": {},
   "source": [
    "## Question 5 ###"
   ]
  },
  {
   "cell_type": "markdown",
   "metadata": {},
   "source": [
    "## Question 6 ###"
   ]
  },
  {
   "cell_type": "markdown",
   "metadata": {},
   "source": [
    "## Question 7 ###"
   ]
  },
  {
   "cell_type": "markdown",
   "metadata": {},
   "source": [
    "## Questions 8 ###"
   ]
  },
  {
   "cell_type": "markdown",
   "metadata": {},
   "source": [
    "## Question 9###"
   ]
  },
  {
   "cell_type": "markdown",
   "metadata": {},
   "source": [
    "# Références"
   ]
  },
  {
   "cell_type": "markdown",
   "metadata": {},
   "source": [
    "[1] M. J. Berger, J. S. Coursey, M. A. Zucker, and J. Chang, “ESTAR, PSTAR, and ASTAR :\n",
    "Computer Programs for Calculating Stopping-Power and Range Tables for Electrons, Protons,\n",
    "and Helium Ions (version 1.2.3),” tech. rep., Gaithersburg MD, 2005.\n",
    "\n",
    "[2] M. E. Newman, Computational Physics. CreateSpace, 2013."
   ]
  }
 ],
 "metadata": {
  "kernelspec": {
   "display_name": "Python 3",
   "language": "python",
   "name": "python3"
  },
  "language_info": {
   "codemirror_mode": {
    "name": "ipython",
    "version": 3
   },
   "file_extension": ".py",
   "mimetype": "text/x-python",
   "name": "python",
   "nbconvert_exporter": "python",
   "pygments_lexer": "ipython3",
   "version": "3.7.4"
  }
 },
 "nbformat": 4,
 "nbformat_minor": 4
}
