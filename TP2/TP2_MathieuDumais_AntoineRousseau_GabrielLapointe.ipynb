{
 "cells": [
  {
   "cell_type": "markdown",
   "metadata": {},
   "source": [
    "# <p style=\"text-align:center\">Travail personel 2: Résolution d'équation non-linéare</p> #"
   ]
  },
  {
   "cell_type": "markdown",
   "metadata": {},
   "source": [
    "Présenté par l'équipe 9: **Mathieu Dumais**, **Antoine Rousseau** et **Gabriel Lapointe**."
   ]
  },
  {
   "cell_type": "markdown",
   "metadata": {},
   "source": [
    "Présenté à **Philippe Després**."
   ]
  },
  {
   "cell_type": "markdown",
   "metadata": {},
   "source": [
    "Date: **26 février 2021**."
   ]
  },
  {
   "cell_type": "markdown",
   "metadata": {
    "nteract": {
     "transient": {
      "deleting": false
     }
    }
   },
   "source": [
    "\n",
    "## Question 1 ###"
   ]
  },
  {
   "cell_type": "markdown",
   "metadata": {},
   "source": [
    "Nous cherchons la position des points de rebroussement ($x$) ou, en d'autre mots, la position maximal et minimal d'une particules relativement à une autre lors  d'une interaction inter-nucléaire, en fonction de l'énergie discrète totale de l'intéraction ($\\epsilon_n$). Sachant que la vitesse est nul lorsque les extrémités de mouvement sont atteind, l'énergie consiste tout simplement à l'énergie potentiel, exprimé dans notre cas par le potentiel de Lennard-Jones:\n",
    "\\begin{equation}\n",
    "    \\Rightarrow v(x)=4\\left[\\left(\\frac{1}{x}\\right)^{12} - \\left(\\frac{1}{x}\\right)^6\\right]\n",
    "\\end{equation}\n",
    "(à noter que les énergies utilisées dans ce numéro sont des ratios de l'énergie en question par rapport à la profondeur du puit de potentiel de la liaison intermoléculaire $V_0$)\n",
    "\n",
    "Ainsi, nous pouvons isoler $x$ dans l'équation suivante:\n",
    "\\begin{equation}\n",
    "    \\Rightarrow \\epsilon_n = 4\\left[\\left(\\frac{1}{x}\\right)^{12} - \\left(\\frac{1}{x}\\right)^6\\right]\n",
    "\\end{equation}\n",
    "Nous donnant:\n",
    "\\begin{equation}\n",
    "    \\Rightarrow x = \\pm \\left[2^{1/6} \\left(-\\frac{\\sqrt{\\epsilon_n + 1} + 1}{\\epsilon_n}\\right)^{1/6}\\right]\n",
    "\\end{equation}\n",
    "\n",
    "Le dernier résultat fut solvé sur Wolfram Alpha lorsque l'énergie $\\epsilon_n\\ne 0$"
   ]
  },
  {
   "cell_type": "markdown",
   "metadata": {},
   "source": [
    "## Question 2 ###"
   ]
  },
  {
   "cell_type": "markdown",
   "metadata": {},
   "source": [
    "## Question 3 ###"
   ]
  },
  {
   "cell_type": "markdown",
   "metadata": {},
   "source": [
    "## Question 4 ###"
   ]
  },
  {
   "cell_type": "markdown",
   "metadata": {},
   "source": [
    "## Question 5 ###"
   ]
  },
  {
   "cell_type": "code",
   "execution_count": 1,
   "metadata": {},
   "outputs": [
    {
     "data": {
      "image/png": "[encoded data removed]",
      "text/plain": [
       "<Figure size 432x288 with 1 Axes>"
      ]
     },
     "metadata": {
      "needs_background": "light"
     },
     "output_type": "display_data"
    }
   ],
   "source": [
    "import numpy as np\n",
    "import matplotlib.pyplot as plt\n",
    "\n",
    "R0_list = np.linspace(0, 5.7, 58) # Liste des R0 pour lesquels p sera évalué\n",
    "p_list = []\n",
    "p_initial = 1\n",
    "\n",
    "# Définition de l'équation qui modélise une pandémie\n",
    "def RHS(p,R0):\n",
    "    next_p = 1-np.exp(-R0*p) \n",
    "    return next_p\n",
    "\n",
    "# Fonction qui opère la methode de relaxation afin d'obtenir une précision voulue (target)\n",
    "def relaxation(R0, target = 1e-8):\n",
    "    p = p_initial\n",
    "    p_old = 1000\n",
    "    \n",
    "    while np.abs(p-p_old) > target:        \n",
    "        p_old = p\n",
    "        p = RHS(p, R0)    \n",
    "    \n",
    "    return p\n",
    "\n",
    "# Création de la liste ccontenant les valeurs de p correspondant aux valeurs de R0 déterminées\n",
    "for R0 in R0_list:\n",
    "    p_list += [relaxation(R0)]\n",
    "\n",
    "# Réalisation du graphique de p selon R0\n",
    "plt.plot(R0_list, p_list, \"ko\");\n",
    "plt.xlabel('$R_{0}$')\n",
    "plt.ylabel('p évalué')\n",
    "plt.show()"
   ]
  },
  {
   "cell_type": "markdown",
   "metadata": {},
   "source": [
    "## Question 6 ###"
   ]
  },
  {
   "cell_type": "markdown",
   "metadata": {},
   "source": [
    " x* est la solution de l'équation originale.\n",
    "  \n",
    " x' est la valeur du prochain estimé.\n",
    "  \n",
    " On a donc que x* = x + $\\epsilon$. $\\epsilon$ est la différence entre x et x*.\n",
    " \n",
    " Près de x*, on a que:\n",
    " \n",
    " $\\epsilon' = \\epsilon f'(x^*)$.\n",
    " \n",
    " On a donc\n",
    " \n",
    " $x^* = x + \\frac{\\epsilon'}{f'(x^*)} = x' + \\epsilon'$\n",
    " \n",
    " $x - x' = \\frac{-\\epsilon'}{f'(x^*)} + \\epsilon'$\n",
    " \n",
    " $x - x' = \\epsilon' \\left(1 - \\frac{1}{f'(x^*)}\\right)$\n",
    " \n",
    " $\\epsilon ' = \\frac{x - x'}{1 - \\frac{1}{f'(x^*)}}$.\n",
    " \n",
    " On sait que $x' = f(x)$ et que $x' = (1 + \\omega)f(x) -\\omega x$, donc:\n",
    " \n",
    " $f(x) = (1 + \\omega)f(x) - \\omega x$\n",
    " \n",
    " $f'(x) = (1 + \\omega)f'(x) - \\omega$.\n",
    " \n",
    " Ici, on suppose que $f'(x) = f'(x^*)$ puisque x est près de x*. On obtient alors:\n",
    " \n",
    " $f'(x^*) = (1 + \\omega)f'(x) - \\omega$.\n",
    " \n",
    " En substituant, on obtient:\n",
    " \n",
    " $\\epsilon ' = \\frac{x - x'}{1 - \\frac{1}{(1 + \\omega)f'(x) - \\omega}}$\n",
    " \n",
    " CQFD"
   ]
  },
  {
   "cell_type": "markdown",
   "metadata": {},
   "source": [
    "## Question 7 & 8 ###"
   ]
  },
  {
   "cell_type": "code",
   "execution_count": 2,
   "metadata": {},
   "outputs": [
    {
     "name": "stdout",
     "output_type": "stream",
     "text": [
      "nombre d'itérations nécessaire pour obtenir une précision sur p de 10e-6 par la méthode de ralaxation: 14\n",
      "nombre d'itérations nécessaire pour obtenir une précision sur p de 10e-6 par la méthode de ralaxation accélérée: 4\n"
     ]
    },
    {
     "data": {
      "image/png": "[encoded data removed]",
      "text/plain": [
       "<Figure size 432x288 with 1 Axes>"
      ]
     },
     "metadata": {
      "needs_background": "light"
     },
     "output_type": "display_data"
    }
   ],
   "source": [
    "import numpy as np\n",
    "import matplotlib.pyplot as plt\n",
    "\n",
    "\n",
    "R0 = 2\n",
    "p_list = []\n",
    "n_list = []\n",
    "p_initial = 1\n",
    "\n",
    "# Définition de l'équation qui modélise une pandémie\n",
    "def RHS(p,R0):\n",
    "    next_p = 1-np.exp(-R0*p) \n",
    "    return next_p\n",
    "\n",
    "# Fonction qui opère la methode de relaxation afin d'obtenir une précision voulue (target)\n",
    "def relaxation(R0, target = 1e-6):\n",
    "    p = p_initial\n",
    "    p_old = 1000\n",
    "    n = 0\n",
    "    \n",
    "    while np.abs(p-p_old) > target:        \n",
    "        p_old = p\n",
    "        p = RHS(p, R0)    \n",
    "        n += 1\n",
    "    \n",
    "    return p,n\n",
    "\n",
    "# Fonction qui opère la methode de relaxation accélérée afin d'obtenir une précision voulue (target)\n",
    "def relaxation_accel(R0, w, target = 1e-6):\n",
    "    p = p_initial\n",
    "    p_old = 1000\n",
    "    n = 0\n",
    "    \n",
    "    while np.abs(p-p_old) > target:        \n",
    "        p_old = p\n",
    "        p = (1+w)*RHS(p, R0) - w*p\n",
    "        n += 1\n",
    "    \n",
    "    return p, n\n",
    "\n",
    "# Liste des w pour lesquels le nombre d'itération permettant d'obtenir une précision de 10^-6 sera évalué\n",
    "w_list = np.linspace(0, 1.4, 1000)\n",
    "\n",
    "# Liste contenant le nombre d'itération permettant d'obtenir une précision de 10^-6 pour un w donné\n",
    "for w in w_list:\n",
    "    n_list += [relaxation_accel(R0, w)[1]]\n",
    "\n",
    "print(\"nombre d'itérations nécessaire pour obtenir une précision sur p de 10e-6 par la méthode de ralaxation: \" + str(relaxation(R0)[1]))\n",
    "print(\"nombre d'itérations nécessaire pour obtenir une précision sur p de 10e-6 par la méthode de ralaxation accélérée: \" + str(relaxation_accel(R0, 0.685)[1]))\n",
    "\n",
    "# Représentation graphique du nombre d'itération permettant d'obtenir une précision de 10^-6 selon w\n",
    "plt.plot(w_list, n_list, \"k\");\n",
    "plt.xlabel('$\\omega$')\n",
    "plt.ylabel(\"nb d'itérations premettant d'obtenir une précision de $10^{-6}$\")\n",
    "plt.show()"
   ]
  },
  {
   "cell_type": "markdown",
   "metadata": {},
   "source": [
    "## Question 9###"
   ]
  },
  {
   "cell_type": "markdown",
   "metadata": {},
   "source": [
    "# Références"
   ]
  },
  {
   "cell_type": "markdown",
   "metadata": {},
   "source": [
    "[1] M. E. Newman, Computational Physics. CreateSpace, 2013."
   ]
  }
 ],
 "metadata": {
  "kernelspec": {
   "display_name": "Python 3",
   "language": "python",
   "name": "python3"
  },
  "language_info": {
   "codemirror_mode": {
    "name": "ipython",
    "version": 3
   },
   "file_extension": ".py",
   "mimetype": "text/x-python",
   "name": "python",
   "nbconvert_exporter": "python",
   "pygments_lexer": "ipython3",
   "version": "3.8.3"
  }
 },
 "nbformat": 4,
 "nbformat_minor": 4
}
