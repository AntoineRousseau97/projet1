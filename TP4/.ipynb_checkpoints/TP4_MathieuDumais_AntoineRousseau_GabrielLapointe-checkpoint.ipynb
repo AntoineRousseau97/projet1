{
 "cells": [
  {
   "cell_type": "markdown",
   "metadata": {},
   "source": [
    "# <p style=\"text-align:center\">Travail personel 4: Équations différentielles partielles</p> #"
   ]
  },
  {
   "cell_type": "markdown",
   "metadata": {},
   "source": [
    "**Mathieu Dumais**, **Antoine Rousseau** et **Gabriel Lapointe**."
   ]
  },
  {
   "cell_type": "markdown",
   "metadata": {},
   "source": [
    "Présenté à **Philippe Després**."
   ]
  },
  {
   "cell_type": "markdown",
   "metadata": {},
   "source": [
    "Date: **4 avril 2021**."
   ]
  },
  {
   "cell_type": "code",
   "execution_count": null,
   "metadata": {},
   "outputs": [],
   "source": [
    "from scipy.linalg import solve_banded\n",
    "from numpy import matmul, exp, linspace, array, zeros, empty\n",
    "from pylab import plot, show, ylabel, xlabel\n"
   ]
  },
  {
   "cell_type": "markdown",
   "metadata": {
    "nteract": {
     "transient": {
      "deleting": false
     }
    }
   },
   "source": [
    "# Question 1\n"
   ]
  },
  {
   "cell_type": "code",
   "execution_count": 1,
   "metadata": {},
   "outputs": [],
   "source": [
    "#constantes\n",
    "m = 9.109 * 10 ** -31  # electron mass\n",
    "L = 10 ** -8  # m\n",
    "x0 = L / 2\n",
    "sigma = 10 ** -10  # m\n",
    "k = 5 * 10 ** 10  # 1/m\n",
    "h_bar = 6.626 * 10 ** -34\n",
    "N = 1000  # number of spatial slices\n",
    "a = L / N  # spatial distance between points\n",
    "h = 10 ** -18  # time step in seconds\n",
    "a1 = 1 + 1j * h * h_bar / (2 * m * a ** 2)\n",
    "a2 = - h * h_bar * 1j / (4 * m * a ** 2)\n",
    "b1 = 1 - 1j * h * h_bar / (2 * m * a ** 2)\n",
    "b2 = - a2\n",
    "\n",
    "def psi_0(x):\n",
    "    return exp(-(x - x0) ** 2 / (2 * sigma ** 2)) * exp(1j * k * x)"
   ]
  },
  {
   "cell_type": "markdown",
   "metadata": {},
   "source": [
    "# Question 2\n"
   ]
  },
  {
   "cell_type": "code",
   "execution_count": null,
   "metadata": {},
   "outputs": [],
   "source": []
  },
  {
   "cell_type": "markdown",
   "metadata": {},
   "source": [
    "# Question 3\n"
   ]
  },
  {
   "cell_type": "code",
   "execution_count": null,
   "metadata": {},
   "outputs": [],
   "source": []
  },
  {
   "cell_type": "markdown",
   "metadata": {},
   "source": [
    "# Question 4\n"
   ]
  },
  {
   "cell_type": "code",
   "execution_count": null,
   "metadata": {},
   "outputs": [],
   "source": []
  },
  {
   "cell_type": "markdown",
   "metadata": {},
   "source": [
    "# Question 5\n"
   ]
  },
  {
   "cell_type": "code",
   "execution_count": null,
   "metadata": {},
   "outputs": [],
   "source": []
  }
 ],
 "metadata": {
  "kernelspec": {
   "display_name": "Python 3",
   "language": "python",
   "name": "python3"
  },
  "language_info": {
   "codemirror_mode": {
    "name": "ipython",
    "version": 3
   },
   "file_extension": ".py",
   "mimetype": "text/x-python",
   "name": "python",
   "nbconvert_exporter": "python",
   "pygments_lexer": "ipython3",
   "version": "3.7.4"
  }
 },
 "nbformat": 4,
 "nbformat_minor": 4
}
