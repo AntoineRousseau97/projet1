{
 "cells": [
  {
   "cell_type": "markdown",
   "metadata": {},
   "source": [
    "# <p style=\"text-align:center\">Travail personel 4: Équations différentielles partielles</p> #"
   ]
  },
  {
   "cell_type": "markdown",
   "metadata": {},
   "source": [
    "**Mathieu Dumais**, **Antoine Rousseau** et **Gabriel Lapointe**."
   ]
  },
  {
   "cell_type": "markdown",
   "metadata": {},
   "source": [
    "Présenté à **Philippe Després**."
   ]
  },
  {
   "cell_type": "markdown",
   "metadata": {},
   "source": [
    "Date: **4 avril 2021**."
   ]
  },
  {
   "cell_type": "markdown",
   "metadata": {},
   "source": [
    "On commence par importer les packages nécessaires:"
   ]
  },
  {
   "cell_type": "code",
   "execution_count": 1,
   "metadata": {},
   "outputs": [],
   "source": [
    "import numpy as np\n",
    "import matplotlib.pyplot as plt \n",
    "from matplotlib.animation import FuncAnimation"
   ]
  },
  {
   "cell_type": "markdown",
   "metadata": {},
   "source": [
    "Et on défini les constantes et les coefficients a1, a2, b1, b2:"
   ]
  },
  {
   "cell_type": "code",
   "execution_count": 2,
   "metadata": {},
   "outputs": [],
   "source": [
    "# Definition of constants\n",
    "M = 9.109e-31  # mass of electron (g)\n",
    "L = 1e-8  #length of box (m)\n",
    "h_bar = 6.626e-34 #Planck constant (J⋅s)\n",
    "\n",
    "N = 1000  # number of spacial steps\n",
    "a = L / N  # spacial step size\n",
    "\n",
    "h = 1e-18 # temporal step (s)\n",
    "tf = 5e-16 #final time (s)\n",
    "t_step = int(tf/h) #number of temporal steps\n",
    "\n",
    "#Intialisation of coefficients\n",
    "const = h * (1j *  h_bar) / (2 * M * a ** 2) \n",
    "a1 = 1 + const\n",
    "a2 = -const/2\n",
    "b1 = 1 - const\n",
    "b2 = const/2"
   ]
  },
  {
   "cell_type": "markdown",
   "metadata": {
    "nteract": {
     "transient": {
      "deleting": false
     }
    }
   },
   "source": [
    "# Questions 1 et 2\n"
   ]
  },
  {
   "cell_type": "markdown",
   "metadata": {},
   "source": [
    "On ajoute les fonctions. La fonction psi0 défini la valeur de $\\psi$(x,0), la fonction banded provient de l'annexe E du livre et permet le calcul de matrices tridiagonales"
   ]
  },
  {
   "cell_type": "code",
   "execution_count": 3,
   "metadata": {},
   "outputs": [],
   "source": [
    "#Definition of wave function of electron\n",
    "def psi0(x):\n",
    "    #Defining constants\n",
    "    x_0 = L/2 #inital position\n",
    "    s = 1e-10  # sigma (m)\n",
    "    k = 5e10  # kappa (m**-1)\n",
    "    \n",
    "    return np.exp(-(x - x_0) ** 2 / (2 * s ** 2)) * np.exp(1j * k * x)\n",
    "\n",
    "def banded(Aa,va,up,down):\n",
    "\n",
    "    # Copy the inputs and determine the size of the system\n",
    "    A = np.copy(Aa)\n",
    "    v = np.copy(va)\n",
    "    N = len(v)\n",
    "    \n",
    "    # Gaussian elimination\n",
    "    for m in range(N):\n",
    "\n",
    "        # Normalization factor\n",
    "        div = A[up,m]\n",
    "\n",
    "        # Update the vector first\n",
    "        v[m] /= div\n",
    "        for k in range(1,down+1):\n",
    "            if m+k<N:\n",
    "                v[m+k] -= A[up+k,m]*v[m]\n",
    "\n",
    "        # Now normalize the pivot row of A and subtract from lower ones\n",
    "        for i in range(up):\n",
    "            j = m + up - i\n",
    "            if j<N:\n",
    "                A[i,j] /= div\n",
    "                for k in range(1,down+1):\n",
    "                    A[i+k,j] -= A[up+k,m]*A[i,j]\n",
    "\n",
    "    # Backsubstitution\n",
    "    for m in range(N-2,-1,-1):\n",
    "        for i in range(up):\n",
    "            j = m + up - i\n",
    "            if j<N:\n",
    "                v[m] -= A[i,j]*v[j]\n",
    "\n",
    "    return v"
   ]
  },
  {
   "cell_type": "markdown",
   "metadata": {},
   "source": [
    "On crée le vecteur $\\psi$(t) ainsi que la matrice A:"
   ]
  },
  {
   "cell_type": "code",
   "execution_count": 4,
   "metadata": {},
   "outputs": [],
   "source": [
    "# initial conditions\n",
    "x_points = np.linspace(0, L, N + 1)\n",
    "\n",
    "#initailisation of psi(t) vector\n",
    "psi = np.zeros(N+1, complex)\n",
    "psi[:] = psi0(x_points) #setting all elements to psi(x,0)\n",
    "psi[0], psi[N] = 0, 0 #limit conditions at x = 0 and x = L\n",
    "\n",
    "A = np.empty((3,N),complex)\n",
    "A[0,:] = a2\n",
    "A[1,:] = a1\n",
    "A[2:,] = a2\n",
    "psi_list = [list(np.real(psi))]"
   ]
  },
  {
   "cell_type": "markdown",
   "metadata": {},
   "source": [
    "Finalement on peut calculer $v_i$ et $\\psi_{i}$, les deux sont calculés en mêmes temps puisque $\\psi$ dépend de $v_i$ (PEUT ÊTRE FAUX!!!!!!). Le calcul est fait à chaque h jusqu'au temps final choisi:"
   ]
  },
  {
   "cell_type": "code",
   "execution_count": 5,
   "metadata": {},
   "outputs": [],
   "source": [
    "for i in range(t_step):\n",
    "    v = b1*psi[1:N] + b2*(psi[2:N+1] + psi[0:N-1])\n",
    "    psi[1:N] = banded(A, v, 1, 1)\n",
    "    psi_list.append(list(np.real(psi)))"
   ]
  },
  {
   "cell_type": "markdown",
   "metadata": {},
   "source": [
    "# Question 3\n"
   ]
  },
  {
   "cell_type": "markdown",
   "metadata": {},
   "source": []
  },
  {
   "cell_type": "code",
   "execution_count": 6,
   "metadata": {},
   "outputs": [
    {
     "data": {
      "image/png": "[encoded data removed]",
      "text/plain": [
       "<Figure size 432x288 with 1 Axes>"
      ]
     },
     "metadata": {
      "needs_background": "light"
     },
     "output_type": "display_data"
    }
   ],
   "source": [
    "fig, ax = plt.subplots()\n",
    "ax.set_xlim(0, L)\n",
    "ax.set_ylim(-1, 1)\n",
    "line, = ax.plot(0, 0)\n",
    "\n",
    "\n",
    "def animation_frame(i):\n",
    "    x_data = x_points\n",
    "    y_data = psi_list[i]\n",
    "    line.set_xdata(x_data)\n",
    "    line.set_ydata(y_data)\n",
    "    return line, \n",
    "\n",
    "animation = FuncAnimation(fig, func=animation_frame, frames=t_step, blit=True, repeat=False, interval=10)\n",
    "plt.xlabel(\"Position (m)\")\n",
    "plt.ylabel(\"Fonction d'onde (-)\")\n",
    "plt.show()"
   ]
  },
  {
   "cell_type": "markdown",
   "metadata": {},
   "source": [
    "# Question 4\n"
   ]
  },
  {
   "cell_type": "code",
   "execution_count": null,
   "metadata": {},
   "outputs": [],
   "source": []
  },
  {
   "cell_type": "markdown",
   "metadata": {},
   "source": [
    "# Question 5\n"
   ]
  },
  {
   "cell_type": "code",
   "execution_count": null,
   "metadata": {},
   "outputs": [],
   "source": []
  }
 ],
 "metadata": {
  "kernelspec": {
   "display_name": "Python 3",
   "language": "python",
   "name": "python3"
  },
  "language_info": {
   "codemirror_mode": {
    "name": "ipython",
    "version": 3
   },
   "file_extension": ".py",
   "mimetype": "text/x-python",
   "name": "python",
   "nbconvert_exporter": "python",
   "pygments_lexer": "ipython3",
   "version": "3.7.4"
  }
 },
 "nbformat": 4,
 "nbformat_minor": 4
}
