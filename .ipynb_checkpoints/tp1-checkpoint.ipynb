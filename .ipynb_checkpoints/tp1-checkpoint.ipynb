{
 "cells": [
  {
   "cell_type": "markdown",
   "metadata": {},
   "source": [
    "# <p style=\"text-align:center\">Parcours des protons dans la matières</p> #\n",
    "par Mathieu Dumais, Antoine Rousseau et Gabriel Lapointe"
   ]
  },
  {
   "cell_type": "markdown",
   "metadata": {
    "nteract": {
     "transient": {
      "deleting": false
     }
    }
   },
   "source": [
    "## Question 1 ###"
   ]
  },
  {
   "cell_type": "code",
   "execution_count": 1,
   "metadata": {
    "nteract": {
     "transient": {
      "deleting": false
     }
    }
   },
   "outputs": [
    {
     "name": "stdout",
     "output_type": "stream",
     "text": [
      "3.385161894888597e+29\n",
      "5.906570630843504e+29\n"
     ]
    },
    {
     "data": {
      "text/plain": [
       "<Figure size 640x480 with 1 Axes>"
      ]
     },
     "metadata": {},
     "output_type": "display_data"
    },
    {
     "data": {
      "text/plain": [
       "<Figure size 640x480 with 1 Axes>"
      ]
     },
     "metadata": {},
     "output_type": "display_data"
    }
   ],
   "source": [
    "import numpy as np\n",
    "import matplotlib.pyplot as plt\n",
    "\n",
    "#Definition of known costants\n",
    "avogadro = 6.022e23 #particle/mol\n",
    "c = 299792458 #m/s\n",
    "me = 9.1094E-31*6.242e18 #eV\n",
    "mp = 1.6727E-27*6.242e18 #eV \n",
    "re = 2.8179403227e-15 #m\n",
    "\n",
    "#Definition of materials (water and compact bone)\n",
    "\n",
    "#Water\n",
    "list_atom_H20 = [1, 8] #atomic number of atoms in H20\n",
    "list_fraction_H20 = [0.11894, 0.888194] #massic fraction of constituents\n",
    "list_molar_mass_H20_g = [1.0079, 15.999] #g/mol (molar mass in g)\n",
    "list_molar_mass_H20 = [x / 1000 for x in list_molar_mass_H20_g] #kg/mol (in kg)\n",
    "rho_water = 1000 #kg/m^3 (density)\n",
    "I_H20 = 75 #eV \n",
    "\n",
    "#Compact bone\n",
    "list_atom_bone = [1, 6, 7, 8, 12, 15, 16, 20]   \n",
    "list_fraction_bone = [0.063984, 0.278, 0.027, 0.410016, 0.002, 0.07, 0.002, 0.147]\n",
    "list_molar_mass_bone_g = [1.007, 12.01, 14.007, 15.999, 24.305, 30.974, 32.06, 40.078] #g/mol\n",
    "list_molar_mass_bone = [x / 1000 for x in list_molar_mass_bone_g] #kg/mol\n",
    "rho_bone = 1850 #kg/m^3\n",
    "I_bone = 91.9 # \n",
    "\n",
    "#calculation of electron density of materials\n",
    "def calc_ne(list_atom_no, list_fraction, list_molar_mass, rho):\n",
    "    i = 0 \n",
    "    ne = 0\n",
    "    for atom_no in list_atom_no:\n",
    "        nb_electron = atom_no*(list_fraction[i]/list_molar_mass[i])*avogadro\n",
    "        ne += rho*nb_electron\n",
    "        i += 1\n",
    "    return ne\n",
    "\n",
    "#Calculation of lorentz factor and stopping power of proton in materials\n",
    "def f(T, ne, I):\n",
    "    gamma = T/(mp*c**2) + 1\n",
    "    beta = np.sqrt(1- 1/gamma**2)\n",
    "    Te_max = (2 * me * c**2 * (gamma**2 - 1)) / (1 + 2 * gamma * (me / mp) + (me / mp)**2)\n",
    "    return 2*np.pi*(re**2)*me*(c**2)*ne*(1/(beta**2))*(np.log(2*me*(c**2)*(beta**2)*(gamma**2)*Te_max/(I**2))-2*(beta**2))\n",
    "\n",
    "#Plotting\n",
    "def plot_Scol(ne, I, figname):\n",
    "    T = np.linspace(3e6,250e6, 1000000)\n",
    "    Scol = f(T, ne, I)\n",
    "    \n",
    "    g = plt.figure()\n",
    "    plt.plot(T, Scol, \"k\")\n",
    "    plt.xscale(\"log\")\n",
    "    #plt.yscale(\"log\")\n",
    "    plt.xlabel(\"Énergie (eV)\")\n",
    "    plt.ylabel(r\"Pouvoir d’arrêt collisionnel ($MeV \\cdot cm^2 / g$)\")\n",
    "    plt.show()\n",
    "    g.savefig(figname, dpi = 600, bbox_inches = \"tight\")\n",
    "\n",
    "#Calling the electron density function\n",
    "ne_H20 = calc_ne(list_atom_H20, list_fraction_H20, list_molar_mass_H20, rho_water)\n",
    "ne_bone = calc_ne(list_atom_bone, list_fraction_bone, list_molar_mass_bone, rho_bone)\n",
    "    \n",
    "#Printing electron density\n",
    "print(ne_H20)\n",
    "print(ne_bone)  \n",
    "\n",
    "#Calling the plotting function\n",
    "plot_Scol(ne_H20, I_H20, \"Scol_H20.png\")\n",
    "plot_Scol(ne_bone, I_bone, \"Scol_bone.png\")\n",
    "\n"
   ]
  },
  {
   "cell_type": "markdown",
   "metadata": {},
   "source": [
    "## Question 2 ###"
   ]
  },
  {
   "cell_type": "markdown",
   "metadata": {},
   "source": [
    "Nous savons que la porté par **CDSA** est en $g/cm^2$ (selon le site du **NIST**). Il nous faut donc prouver que l'équation de $R_{CDSA}$ revient donc à l'unité ci-haut:\n",
    "\n",
    "\\begin{equation}\n",
    "    R_{CDSA}=\\int_0^{T_i}\\frac{dT'}{\\frac{S_{col}}{\\rho}}\n",
    "\\end{equation}\n",
    "\\begin{equation}\n",
    "    R_{CDSA}=\\rho\\int_0^{T_i}\\frac{dT'}{S_{col}}\n",
    "\\end{equation}\n",
    "\n",
    "Nous savons que $\\rho$ est la densité ($g/cm^3$), $T'$ l'énergie de tranféré à un électron (MeV) et $S_{col}$ est l'énergie perdu par le proton sur la distance qu'il parcours (MeV/cm). L'intégrale n'a pas d'impact sur les unités des variables.\n",
    "\n",
    "\\begin{equation}\n",
    "    R_{CDSA}=g/cm^3\\cdot\\frac{MeV}{MeV/cm}=g/cm^2\n",
    "\\end{equation}\n",
    "\n",
    "CQFD"
   ]
  },
  {
   "cell_type": "markdown",
   "metadata": {},
   "source": [
    "## Question 3 ###"
   ]
  },
  {
   "cell_type": "markdown",
   "metadata": {},
   "source": [
    "L'arrêt collisionnel aux énergies est une bonne approximation de l'arrêt collisionnel total tout parce que les autres énergies en vigueur dans la réaction ont beaucoup moins d'impact que l'énergie électronique. D'un côté, le pouvoir d'arrêt nucléaire est négligé parce que, puisque que celui-ci consiste à l'énergie des collisions élastiques entre le proton et les noyaux de la matière, les énergies ont beaucoup moins de porté sur toutes la matière car les noyaux sont beaucoup moins présents que les électrons et donc l'énergie de ces intéractions prend moins d'espace. Cependant, le pouvoir d'arrêt nucléaire s'accroit lorsque la masse de l'ion est plus importante (parce que les noyaux sont plus volumineux) et lorsque l'énergie cinétique du proton diminue. Prenant le graphique ***PSTAR: stopping power and range tables for protons*** pour l'eau liquide sur le site web du **NIST**, on peut voir que à basse énergie, le pouvoir d'arrêt nucléaire donne un léger impact sur le pouvoir d'arrêt total, mais aux environ du 3MeV utilisé en protonthérapie, le pouvoir d'arrêt nucléaire est plus de 100 plus petit que le pouvoir d'arrêt électronique et continue à descendre. Le pouvoir d'arrêt nucléaire est donc négligeable dans le cadre de la protonthérapie. D'autre part, les pertes radiatives sont négligé parce que celles-ci sont causé par le rayonnement électromagnétique des noyaux qui, encore une fois, sont beaucoup moins nombreux et prennent beaucoup moins d'espace que les électron dans la matière."
   ]
  },
  {
   "cell_type": "code",
   "execution_count": null,
   "metadata": {},
   "outputs": [],
   "source": []
  }
 ],
 "metadata": {
  "kernelspec": {
   "display_name": "Python 3",
   "language": "python",
   "name": "python3"
  },
  "language_info": {
   "codemirror_mode": {
    "name": "ipython",
    "version": 3
   },
   "file_extension": ".py",
   "mimetype": "text/x-python",
   "name": "python",
   "nbconvert_exporter": "python",
   "pygments_lexer": "ipython3",
   "version": "3.7.4"
  }
 },
 "nbformat": 4,
 "nbformat_minor": 4
}
