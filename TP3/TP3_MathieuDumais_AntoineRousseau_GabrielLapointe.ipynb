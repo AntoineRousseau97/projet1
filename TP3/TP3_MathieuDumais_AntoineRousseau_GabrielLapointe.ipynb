{
 "cells": [
  {
   "cell_type": "markdown",
   "metadata": {},
   "source": [
    "# <p style=\"text-align:center\">Travail personel 3: Équations différentielles</p> #"
   ]
  },
  {
   "cell_type": "markdown",
   "metadata": {},
   "source": [
    "**Mathieu Dumais**, **Antoine Rousseau** et **Gabriel Lapointe**."
   ]
  },
  {
   "cell_type": "markdown",
   "metadata": {},
   "source": [
    "Présenté à **Philippe Després**."
   ]
  },
  {
   "cell_type": "markdown",
   "metadata": {},
   "source": [
    "Date: **19 mars 2021**."
   ]
  },
  {
   "cell_type": "markdown",
   "metadata": {
    "nteract": {
     "transient": {
      "deleting": false
     }
    }
   },
   "source": [
    "\n",
    "# Partie 1: Comètes\n",
    "### a.\n",
    "\n",
    "\\begin{equation}\n",
    "\t\\Rightarrow x = v_x\n",
    "\\end{equation}\n",
    "\n",
    "\\begin{equation}\n",
    "\t\\Rightarrow y = v_y\n",
    "\\end{equation}\n",
    "\n",
    "\\begin{equation}\n",
    "\t\\Rightarrow v_x = \\frac{-GMx}{r^3}\n",
    "\\end{equation}\n",
    "\n",
    "\\begin{equation}\n",
    "\t\\Rightarrow v_y = \\frac{-GMy}{r^3}\n",
    "\\end{equation}"
   ]
  },
  {
   "cell_type": "markdown",
   "metadata": {},
   "source": [
    "### b."
   ]
  },
  {
   "cell_type": "code",
   "execution_count": 3,
   "metadata": {},
   "outputs": [
    {
     "ename": "ModuleNotFoundError",
     "evalue": "No module named 'de421'",
     "output_type": "error",
     "traceback": [
      "\u001b[1;31m---------------------------------------------------------------------------\u001b[0m",
      "\u001b[1;31mModuleNotFoundError\u001b[0m                       Traceback (most recent call last)",
      "\u001b[1;32m<ipython-input-3-bd508f799fed>\u001b[0m in \u001b[0;36m<module>\u001b[1;34m\u001b[0m\n\u001b[0;32m      3\u001b[0m \u001b[1;32mimport\u001b[0m \u001b[0mmatplotlib\u001b[0m\u001b[1;33m.\u001b[0m\u001b[0mpyplot\u001b[0m \u001b[1;32mas\u001b[0m \u001b[0mplt\u001b[0m\u001b[1;33m\u001b[0m\u001b[1;33m\u001b[0m\u001b[0m\n\u001b[0;32m      4\u001b[0m \u001b[1;32mfrom\u001b[0m \u001b[0mastropy\u001b[0m\u001b[1;33m.\u001b[0m\u001b[0mtime\u001b[0m \u001b[1;32mimport\u001b[0m \u001b[0mTime\u001b[0m \u001b[1;31m# ephemerides\u001b[0m\u001b[1;33m\u001b[0m\u001b[1;33m\u001b[0m\u001b[0m\n\u001b[1;32m----> 5\u001b[1;33m \u001b[1;32mimport\u001b[0m \u001b[0mde421\u001b[0m\u001b[1;33m\u001b[0m\u001b[1;33m\u001b[0m\u001b[0m\n\u001b[0m\u001b[0;32m      6\u001b[0m \u001b[1;32mfrom\u001b[0m \u001b[0mjplephem\u001b[0m \u001b[1;32mimport\u001b[0m \u001b[0mEphemeris\u001b[0m\u001b[1;33m\u001b[0m\u001b[1;33m\u001b[0m\u001b[0m\n",
      "\u001b[1;31mModuleNotFoundError\u001b[0m: No module named 'de421'"
     ]
    }
   ],
   "source": [
    "from astropy.constants import G, M_sun, M_earth #(m3 / (kg s2) and kg)\n",
    "from numpy import array, sqrt, arange, empty, transpose\n",
    "import matplotlib.pyplot as plt\n",
    "from astropy.time import Time # ephemerides\n",
    "import de421\n",
    "from jplephem import Ephemeris"
   ]
  },
  {
   "cell_type": "code",
   "execution_count": null,
   "metadata": {},
   "outputs": [],
   "source": [
    "#function that calculates square root of a sum of squares. Used for radius calculation   \n",
    "def r_func(x,y):\n",
    "    return sqrt(x**2 + y**2)\n",
    "\n",
    "def f(r,t):\n",
    "    x = r[0]\n",
    "    y = r[1]\n",
    "    v_x = r[2]\n",
    "    v_y= r[3]\n",
    "    radius = r_func(x,y)\n",
    "    fx = v_x\n",
    "    fv_x = -GM*x/radius**3\n",
    "    fy = v_y\n",
    "    fv_y = -GM*y/radius**3\n",
    "    \n",
    "    return array([fx, fy, fv_x, fv_y], float)\n",
    "\n",
    "#function that allows to add calculated values into 4 arrays representing the position and velocity of comet in 2D\n",
    "def append_all(r):\n",
    "    x_points.append(r[0])\n",
    "    y_points.append(r[1])\n",
    "    vx_points.append(r[2])\n",
    "    vy_points.append(r[3])"
   ]
  },
  {
   "cell_type": "code",
   "execution_count": null,
   "metadata": {},
   "outputs": [],
   "source": [
    "x_points = []\n",
    "y_points = []\n",
    "vx_points = []\n",
    "vy_points = []\n",
    "\n",
    "GM = G.value*M_sun.value #Gravitational constant * Mass of sun\n",
    "\n",
    "#Initial conditions. Corresponds to intial position and initial speed of comet\n",
    "x_0 = 4e12 #m\n",
    "y_0 = 0 #m\n",
    "vx_0 = 0 #m/s\n",
    "vy_0 = 500 #m/s\n",
    "\n",
    "r = array([x_0, y_0, vx_0, vy_0], float)    \n",
    "\n",
    "a = 0 #Initial time (s)\n",
    "b = 31536000*100 #Final time (s). corresponds to 100 years in seconds.\n",
    "N = b/31530 #Number of steps\n",
    "h = (b-a)/N #Size of each step\n",
    "tpoints = arange(a,b,h)"
   ]
  },
  {
   "cell_type": "code",
   "execution_count": null,
   "metadata": {},
   "outputs": [],
   "source": [
    "#Loop calculating comet position and velocity for each iteration. \n",
    "for t in tpoints:\n",
    "    append_all(r)\n",
    "    k1 = h*f(r,t)\n",
    "    k2 = h*f(r+0.5*k1,t+0.5*h)\n",
    "    k3 = h*f(r+0.5*k2,t+0.5*h)\n",
    "    k4 = h*f(r+k3,t+h) \n",
    "    r += (k1+2*k2+2*k3+k4)/6 \n",
    "\n",
    "#Plotting comet position in space (in plane xy)\n",
    "plt.plot(tpoints, x_points, color = \"k\", label = \"Position en x\")\n",
    "plt.plot(tpoints, y_points, color = \"r\", label = \"Position en y\")\n",
    "plt.xlabel(\"Temps (s)\")\n",
    "plt.ylabel(\"Position (m)\")\n",
    "plt.legend()\n",
    "plt.show()\n",
    "\n",
    "#Plotting comet position in space (in plane xy)\n",
    "plt.plot(x_points, y_points, \"k\")\n",
    "plt.xlabel(\"Position en x [m]\")\n",
    "plt.ylabel(\"Position en y [m]\")\n",
    "plt.show()"
   ]
  },
  {
   "cell_type": "markdown",
   "metadata": {},
   "source": [
    "On constate que 2 orbites apparaissent dans les figures et que les deux orbites sont superposées. Un pas trop petit ne faisait pas apparaitre les orbites. Pour remédier à la situation, le nombre de steps optimal en fonction du temps initial et du temps final a été obtenu. En définissant le nombre de steps à partir du temps, on obtient toujours un pas suffisamment petit sans avoir à inspecter les figures et trouver le pas par essai et erreur."
   ]
  },
  {
   "cell_type": "markdown",
   "metadata": {},
   "source": [
    "### c."
   ]
  },
  {
   "cell_type": "code",
   "execution_count": null,
   "metadata": {},
   "outputs": [],
   "source": [
    "#Fonction qui permet d'effectuer la racine d'une somme de carrés\n",
    "def r_func(x, y):\n",
    "    return sqrt(x ** 2 + y ** 2)\n",
    "\n",
    "#Fonction représentant les 4 équations différentiels de notre problème\n",
    "def f(r):\n",
    "    x = r[0]\n",
    "    y = r[1]\n",
    "    v_x = r[2]\n",
    "    v_y = r[3]\n",
    "    radius = r_func(x, y)\n",
    "    fx = v_x\n",
    "    fv_x = -GM * x / radius ** 3\n",
    "    fy = v_y\n",
    "    fv_y = -GM * y / radius ** 3\n",
    "\n",
    "    return array([fx, fy, fv_x, fv_y])\n",
    "\n",
    "GM = G.value * M_sun.value\n",
    "x_0 = 4e12  # m\n",
    "y_0 = 0  # m\n",
    "vx_0 = 0  # m/s\n",
    "vy_0 = 500  # m/s\n",
    "r = array([x_0, y_0, vx_0, vy_0], float)\n",
    "\n",
    "# Fonction qui effectue un itération de la m;thode Runge-Kutta 4em ordre\n",
    "def RK_step(r, h):\n",
    "    k1 = h * f(r)\n",
    "    k2 = h * f(r + 0.5*k1)\n",
    "    k3 = h * f(r + 0.5*k2)\n",
    "    k4 = h * f(r + k3)\n",
    "    return (k1 + 2*k2 + 2*k3 + k4)/6\n",
    "\n",
    "# Fonction qui permet d'évaluer l'erreur, de trouver le pas optimal, de trouver la position de la comete, ainsi que le temps associé\n",
    "def time_step(r, t, h):\n",
    "\n",
    "    # Opère 2 itérations de longueur h de la fonction Runge-Kutta afin d'obtenir un estimé de la valeur à t+2h\n",
    "    r_1_1 = RK_step(r, h)\n",
    "    r_1_2 = RK_step(r + r_1_1, h)\n",
    "    r_1 = r_1_1 + r_1_2\n",
    "\n",
    "    # Opère 1 itération de longueur 2h de la fonction Runge-Kutta afin d'obtenir un estimé de la valeur à t+2h\n",
    "    r_2 = RK_step(r, 2 * h)\n",
    "\n",
    "    x_1 = r_1[0]\n",
    "    x_2 = r_2[0]\n",
    "    y_1 = r_1[1]\n",
    "    y_2 = r_2[1]\n",
    "\n",
    "    #calcul de rho, le ratio entre l'erreur voulue et calculée\n",
    "    rho = h*delta / ((r_func((x_1 - x_2), (y_1 - y_2)))/30)\n",
    "\n",
    "    # permet d'ajuster h (le pas) et de mettre à jour t (le temps)\n",
    "    if rho >= 1:\n",
    "        t = t + 2*h\n",
    "        if rho**(1/4) > 2:\n",
    "            h *= 2\n",
    "        else:\n",
    "            h *= rho**(1/4)\n",
    "\n",
    "        return r_1, h, t\n",
    "\n",
    "    else:\n",
    "        return time_step(r, t, h*(rho**(1/4)))\n",
    "\n",
    "a = 0 # Temps initial [s]\n",
    "b = 100*31536000  # Temps final [s] (100 ans)\n",
    "delta = 1000/(31536000) #Valeur de la target en m/s\n",
    "h = b/150000  # step size initial\n",
    "\n",
    "#Création des lsites contenant la position de la comete ainsi que le temps assosié à chaque itération\n",
    "tpoints = []\n",
    "xpoints = []\n",
    "ypoints = []\n",
    "\n",
    "t = a # On défini que le t initial est a\n",
    "\n",
    "# Calcul de la position et de la vitesse de la comete à chaque itération jusqu'à atteindre le temps désiré\n",
    "while t < b:\n",
    "    tpoints.append(t)\n",
    "    xpoints.append(r[0])\n",
    "    ypoints.append(r[1])\n",
    "    delta_r, h, t = time_step(r, t, h)\n",
    "    r += delta_r\n",
    "\n",
    "# Création du graphique\n",
    "plt.plot(array(xpoints), array(ypoints), 'b')\n",
    "plt.plot(array(xpoints)[::100], array(ypoints)[::100], 'ro')\n",
    "plt.xlabel('Position en x [m]')\n",
    "plt.ylabel('Position en y [m]')\n",
    "plt.show()"
   ]
  },
  {
   "cell_type": "markdown",
   "metadata": {},
   "source": [
    "Ce code permet de calculer une erreur approximée sur la valeur à t + 2h. À partir de cette erreur et d'une erreur \"target\", un pas idéal est calculé et utilisé pour la prochaine itération. En répétant cette opération pour un intervale de temps donné, la position de la comete est calculée sur l'inteval en effectuant des pas de grandeur idéal pour respercter l'erreur désirée tout en executant l'algorithme à une vitesse beaucoup plus élevée."
   ]
  },
  {
   "cell_type": "markdown",
   "metadata": {},
   "source": [
    "# Partie 2: La Terre\n",
    "### d.\n",
    "Ici la technique de Verlet a été utilisée pour calculer l'orbite de la terre autour du soleil. Les fonctions f et append_all sont premièrement redéfinis afin de séparer les positions (x, y) et les vitesses ($v_{x}$, $v_{y}$) dans deux arrays. Cela facilite les calculs plus tard. Des variables x2 et y2 sont ajoutés pour le calcul de l'erreur."
   ]
  },
  {
   "cell_type": "code",
   "execution_count": null,
   "metadata": {},
   "outputs": [],
   "source": [
    "#function calculating the RHS of all 4 1st order ODEs\n",
    "def f(r, v):\n",
    "    x = r[0]\n",
    "    y = r[1]\n",
    "    v_x = v[0]\n",
    "    v_y= v[1]\n",
    "    radius = r_func(x,y)\n",
    "    fx = v_x\n",
    "    fv_x = -GM*x/radius**3\n",
    "    fy = v_y\n",
    "    fv_y = -GM*y/radius**3\n",
    "    \n",
    "    return array([fx, fy], float), array([fv_x, fv_y], float)\n",
    "\n",
    "#function appending each part of vector r and v to the correct list\n",
    "def append_all(r, v):\n",
    "    x_points.append(r[0])\n",
    "    y_points.append(r[1])\n",
    "    vx_points.append(v[0])\n",
    "    vy_points.append(v[1])\n",
    "    x2_points.append(r_2[0])\n",
    "    y2_points.append(r_2[1])"
   ]
  },
  {
   "cell_type": "markdown",
   "metadata": {},
   "source": [
    "On redéfini maintenant valeurs initiales pour le problème présent. Le step size ainsi que Tf sont aussi redéfinis."
   ]
  },
  {
   "cell_type": "code",
   "execution_count": null,
   "metadata": {},
   "outputs": [],
   "source": [
    "x_points = []\n",
    "y_points = []\n",
    "vx_points = []\n",
    "vy_points = []\n",
    "x2_points = []\n",
    "y2_points = []\n",
    "\n",
    "#Definition of intial values for all variables\n",
    "x_0 = 1.4710e11 #intial x position (m)\n",
    "y_0 = 0 #inital y position (m)\n",
    "vx_0 = 0 #initial x velocity (m/s)\n",
    "vy_0 = 3.0287e4 #intial y velocity (m/s)\n",
    "r = array([x_0, y_0], float)  #array containing x and y position\n",
    "v = array([vx_0, vy_0], float) #array containing x and y velocity\n",
    "\n",
    "a = 0 #intial time (s)\n",
    "b = 31536000*3 #final time (s) (3 years)\n",
    "h = 3600 #step size (1 hour in seconds)\n",
    "tpoints = arange(a,b,h) "
   ]
  },
  {
   "cell_type": "markdown",
   "metadata": {},
   "source": [
    "On peut maintenant calculer l'orbite grâce à la méthode de Verlet."
   ]
  },
  {
   "cell_type": "code",
   "execution_count": null,
   "metadata": {},
   "outputs": [],
   "source": [
    "v_int = v + 0.5*h*f(r,v)[1] #initialization of v(t+1/2h)\n",
    "v_2 = v + h*f(r,v)[1] #definition of velocity v(t+1/2(2h)) for error calculation\n",
    "r_2 = [0, 0] \n",
    "\n",
    "for t in tpoints:\n",
    "    append_all(r,v)\n",
    "    r_2 = r.copy()\n",
    "    v_2 = v.copy()\n",
    "    r += h*v_int #r(t+h)\n",
    "    k = h*f(r,v)[1] #k\n",
    "    v = v_int + 0.5*k #v(t+h)\n",
    "    v_int += k #v(t+3/2h)\n",
    "    v_2 += k #v(t+3h)\n",
    "    r_2 += 2*h*v_2 #r(v2)\n",
    "\n",
    "#Plot of x position and y position in function of time\n",
    "plt.plot(tpoints, x_points, color = \"k\", label = \"Position en x\")\n",
    "plt.plot(tpoints, y_points, color = \"r\", label = \"Position en y\")\n",
    "plt.xlabel(\"Temps (s)\")\n",
    "plt.ylabel(\"Position (m)\")\n",
    "plt.legend()\n",
    "plt.show()\n",
    "\n",
    "#Plot of x position in function of y position\n",
    "plt.plot(x_points, y_points, \"k\")\n",
    "plt.plot(0,0,\"ko\")\n",
    "plt.xlabel(\"Position en x (m)\")\n",
    "plt.ylabel(\"Position en y (m)\")\n",
    "plt.show()"
   ]
  },
  {
   "cell_type": "markdown",
   "metadata": {},
   "source": [
    "Le premier graphique présente la position en x et la position en y de la terre par rapport au soleil en fonction du temps. On constate trois orbites (3 périodes) pour un temps de 3 ans ce qui était attendu. Le second graphique présente la position de la terre sur le plan (x,y). Les trois orbites sont présentes dans cette figure, mais sont superposées. Il est à noter aussi que l'orbite est presque circulaire (la forme de la figure la fait sembler plus ovale)"
   ]
  },
  {
   "cell_type": "markdown",
   "metadata": {},
   "source": [
    "### e.\n",
    "Les mêmes fonctions sont utilisées pour calculer l'énergie cinétique et potentielle de la terre. On rajoute simplement ces deux calculs à la boucle. On commence par définir la masse de la terre ainsi que des listes vides pour les deux énergies"
   ]
  },
  {
   "cell_type": "code",
   "execution_count": null,
   "metadata": {},
   "outputs": [],
   "source": [
    "m = M_earth.value #Earth Mass\n",
    "Ke = [] #Kinetic Energy List\n",
    "U = [] #Potential Energy List\n",
    "\n",
    "r = array([x_0, y_0], float)  #array containing x and y position\n",
    "v = array([vx_0, vy_0], float) #array containing x and y velocity\n",
    "\n",
    "x_points = []\n",
    "y_points = []\n",
    "vx_points = []\n",
    "vy_points = []"
   ]
  },
  {
   "cell_type": "markdown",
   "metadata": {},
   "source": [
    "On exécute ensuite le même code que précédemment en ajoutant le calcule de l'énergie cinétique et de l'énergie potentielle à chaque itération. Deux graphiques sont ensuite faits. Le premier présente l'énergie cinétique, l'énergie potentielle ainsi que l'énergie totale (la somme des deux) en fonction du temps. Le deuxième graphique présente l'énergie totale seule."
   ]
  },
  {
   "cell_type": "code",
   "execution_count": null,
   "metadata": {},
   "outputs": [],
   "source": [
    "v_int = v + 0.5*h*f(r,v)[1] #initialization of v(t+1/2h)\n",
    "\n",
    "for t in tpoints:\n",
    "    append_all(r,v)\n",
    "    Ke += [0.5 * m * (v[0] ** 2 + v[1] ** 2)] # Kinectic Energy (J)\n",
    "    U += [-GM*m/r_func(r[0], r[1])] # Potential Energy (J)\n",
    "    r += h*v_int #r(t+h)\n",
    "    k = h*f(r,v)[1] #k\n",
    "    v = v_int + 0.5*k #v(t+h)\n",
    "    v_int += k #v(t+3/2h)\n",
    "\n",
    "#Changing energy list into arrays to sum them\n",
    "Ke = array(Ke)\n",
    "U = array(U)\n",
    "E_tot = Ke+U #Total energy (sum of potential and kinetic energy) (J)\n",
    "    \n",
    "plt.plot(tpoints, Ke, \"k\", label = \"Énergie cinétique\")\n",
    "plt.plot(tpoints, U, \"r\", label = \"Énergie potentielle\")\n",
    "plt.plot(tpoints, E_tot, \"k--\", label = \"Énergie totale\")\n",
    "plt.xlabel(\"Temps (s)\")\n",
    "plt.ylabel(\"Énergie (J)\")\n",
    "plt.legend()\n",
    "plt.title(\"Bilan d'énergie\")\n",
    "plt.show()\n",
    "\n",
    "#Plot of E_tot alone\n",
    "plt.plot(tpoints, E_tot, \"k\")\n",
    "plt.xlabel(\"Temps (s)\")\n",
    "plt.ylabel(\"Énergie (J)\")\n",
    "plt.ticklabel_format(useOffset=False)\n",
    "plt.title(\"Énergie totale en fonction du temps\")\n",
    "plt.show()"
   ]
  },
  {
   "cell_type": "markdown",
   "metadata": {},
   "source": [
    "On constate du premier graphique que les énergies potentielles et cinétiques oscillent au courant d'une orbite, mais que l'énergie totale semble constante c'est ce qui est était attendu. On constate de la deuxième figure que l'énergie totale oscille très légèrement (voir axe y) lors d'une orbite. L'énergie totale revient cependant toujours à la même valeur. Cela était attendu puisque la méthode de Verlet conserve l'énergie."
   ]
  },
  {
   "cell_type": "markdown",
   "metadata": {},
   "source": [
    "### f.\n",
    "\n",
    "Pour cette partie les fonctions f et append_all sont redéfinis de nouveau afin que le vecteur r contienne les positions ainsi que les vitesses. Cela facilite les étapes suivantes. Les conditions initiales utilisées sont les mêmes qu'en d et e et n'ont donc pas besoin d'être défini de nouveau."
   ]
  },
  {
   "cell_type": "code",
   "execution_count": null,
   "metadata": {},
   "outputs": [],
   "source": [
    "def f(r):\n",
    "    x = r[0]\n",
    "    y = r[1]\n",
    "    v_x = r[2]\n",
    "    v_y= r[3]\n",
    "    radius = r_func(x,y)\n",
    "    fx = v_x\n",
    "    fv_x = -GM*x/radius**3\n",
    "    fy = v_y\n",
    "    fv_y = -GM*y/radius**3\n",
    "    \n",
    "    return array([fx, fy, fv_x, fv_y], float)\n",
    "\n",
    "def append_all(r):\n",
    "    x_points.append(r[0])\n",
    "    y_points.append(r[1])\n",
    "    vx_points.append(r[2])\n",
    "    vy_points.append(r[3])"
   ]
  },
  {
   "cell_type": "markdown",
   "metadata": {},
   "source": [
    "L'array r doit être redéfini afin de concorder avec la définition des fonctions f(r,t) et append_all. Les listes contenant les positions et vitesses sont aussi vidées. Les valeurs obtenues avec la méthode de Verlet sont conservées afin de pouvoir les comparer avec les méthodes suivantes."
   ]
  },
  {
   "cell_type": "code",
   "execution_count": null,
   "metadata": {},
   "outputs": [],
   "source": [
    "r = array([x_0, y_0, vx_0, vy_0])\n",
    "\n",
    "x_verlet, y_verlet = x_points, y_points\n",
    "x2_verlet, y2_verlet = x2_points, y2_points\n",
    "Ke_verlet, U_verlet = Ke, U\n",
    "x_points = []\n",
    "y_points = []\n",
    "vx_points = []\n",
    "vy_points = []\n",
    "Ke = []\n",
    "U = []"
   ]
  },
  {
   "cell_type": "markdown",
   "metadata": {},
   "source": [
    "On utilise maintenant la méthode RK2 afin de calculer nos données de position de vitesse et d'énergie. Un graphique comparant l'énergie totale obtenue avec la méthode RK2 puis la méthode de Verlet est fait."
   ]
  },
  {
   "cell_type": "code",
   "execution_count": null,
   "metadata": {},
   "outputs": [],
   "source": [
    "for t in tpoints:\n",
    "    append_all(r)\n",
    "    Ke += [0.5 * m * (r[2] ** 2 + r[3] ** 2)] # Kinectic Energy (J)\n",
    "    U += [-GM*m/r_func(r[0], r[1])] # Potential Energy (J)\n",
    "    k1 = h*f(r)\n",
    "    k2 = h*f(r + 0.5*k1)\n",
    "    r += k2\n",
    "    \n",
    "#Changing energy list into arrays to sum them\n",
    "Ke = array(Ke)\n",
    "U = array(U)\n",
    "E_tot = Ke+U #Total energy (sum of potential and kinetic energy) (J)\n",
    "E_verlet = Ke_verlet + U_verlet\n",
    "\n",
    "#Plotting total energy for Verlet method and RK2 method\n",
    "plt.plot(tpoints, E_tot, color = \"k\", label = \"Méthode RK2\")\n",
    "plt.plot(tpoints, E_verlet, color = \"r\", label = \"Méthode de Verlet\")\n",
    "plt.xlabel(\"Temps (s)\")\n",
    "plt.ylabel(\"Énergie (J)\")\n",
    "plt.legend()\n",
    "plt.ticklabel_format(useOffset=False)\n",
    "plt.title(\"Énergie totale en fonction du temps\")\n",
    "plt.show()"
   ]
  },
  {
   "cell_type": "markdown",
   "metadata": {},
   "source": [
    "On constate que l'énergie totale pour la méthode de Verlet est constante. Comme expliqué précédemment, cela était attendu puisque la méthode de Verlet conserve l'énergie. On constate pour la méhotde RK2 que l'énergie n'est pas conservée d'une orbite à l'autre. On constate cependant que l'aire sous la courbe est constante ce qui témoigne du caractère symplectique de la méthode RK2. "
   ]
  },
  {
   "cell_type": "markdown",
   "metadata": {},
   "source": [
    "### g.\n",
    "\n",
    "Pour cette méthode on commence par définir un step size (pas) H ainsi qu'une précision delta. Une pas d'une semaine et une précision de 1 km par année sont utilisés. Le vecteur r est aussi réinitialisé avec les conditions limites. Les listes contenant les positions est vitesses sont aussi réinitialisés."
   ]
  },
  {
   "cell_type": "code",
   "execution_count": null,
   "metadata": {},
   "outputs": [],
   "source": [
    "H = 604800 #1 week in seconds\n",
    "delta = 3.1709792e-5 #1 km/year in m/s\n",
    "tpoints = arange(a,b,H) \n",
    "r = array([x_0, y_0, vx_0, vy_0], float)  # array containing x,y positions and vx,vy velocities\n",
    "\n",
    "x_points = []\n",
    "y_points = []\n",
    "vx_points = []\n",
    "vy_points = []\n",
    "error_list = []"
   ]
  },
  {
   "cell_type": "markdown",
   "metadata": {},
   "source": [
    "On applique ensuite la méthode de Bulirsch-Stoer afin de calculer la position et la vitesse de la terre autour du soleil. La méthode utilisé est prise du livre Compuational Physics de Newman [1]"
   ]
  },
  {
   "cell_type": "code",
   "execution_count": null,
   "metadata": {},
   "outputs": [],
   "source": [
    "for t in tpoints: \n",
    "    append_all(r)\n",
    "    \n",
    "    # Do one modified mipoint step of size H \n",
    "    # to get things started \n",
    "    n = 1 \n",
    "    r1 = r + 0.5*H*f(r) \n",
    "    r2 = r + H*f(r1) \n",
    "    # The array R1 stores the first row of the \n",
    "    # extrapolation table, which contains only the single \n",
    "    # modified midpoint estimate of the solution at the \n",
    "    # end of the interval \n",
    "    R1 = empty([1,4] ,float) \n",
    "    R1[0] = 0.5*(r1 + r2 + 0.5*H*f(r2)) \n",
    "# Now increase n until the required accuracy is reached \n",
    "    error = 2*H*delta \n",
    "    while error>H*delta: \n",
    "        n += 1 \n",
    "        h = H/n \n",
    "        # Modified midpoint method \n",
    "        r1 = r + 0.5*h*f(r) \n",
    "        r2 = r + h*f(r1) \n",
    "        for i in range(n-1): \n",
    "            r1 += h*f(r2) \n",
    "            r2 += h*f (r1) \n",
    "        # Calculate extrapolation estimates. Arrays R1 and R2 \n",
    "        # hold the two most recent lines of the table \n",
    "        R2 = R1     \n",
    "        R1 = empty([n,4] ,float) \n",
    "        R1[0] = 0.5*(r1 + r2 + 0.5*h*f(r2)) \n",
    "        for m in range(1,n): \n",
    "            epsilon= (R1[m-1]-R2[m-1])/((n/(n-1))**(2*m)-1) \n",
    "            R1[m] = R1[m-1] + epsilon \n",
    "        error= abs(epsilon[0]) \n",
    "    error_list += [error] #Accumulating error in a list to get total error\n",
    "    # Set r equal to the most accurate estimate we have, \n",
    "    # before moving on to the next big step \n",
    "    r = R1[n-1] "
   ]
  },
  {
   "cell_type": "markdown",
   "metadata": {},
   "source": [
    "On finit par calculer l'erreur pour la méthode de Verlet puis la comparer à l'erreur pour la méthode de Bulirsch-Stoer. Les graphiques de positions x et y en fonction du temps ainsi que de la position de la terre dans le plan x,y sont aussi affichés."
   ]
  },
  {
   "cell_type": "code",
   "execution_count": null,
   "metadata": {},
   "outputs": [],
   "source": [
    "error_BS = sum(error_list)/3 #calculating total error for current method\n",
    "\n",
    "#Calculating Verlet method error \n",
    "for i in range(2, len(x_verlet)):\n",
    "    err_x = ((x_verlet[i]-x2_verlet[i-1])/6)\n",
    "    err_y = ((y_verlet[i]-y2_verlet[i-1])/6)\n",
    "    error += [r_func(err_x, err_y)]\n",
    "\n",
    "error_verlet = (sum(error)/3)/1000\n",
    "\n",
    "#printing errors\n",
    "print(\"Bulirsch-Stoer error : \" + str(error_BS) + \" m\")\n",
    "print((\"Verlet error : \" + str(error_verlet) + \" km\"))\n",
    "\n",
    "plt.plot(tpoints, x_points, color = \"k\", label = \"Position en x\")\n",
    "plt.plot(tpoints, y_points, color = \"r\", label = \"Position en y\")\n",
    "plt.xlabel(\"temps (s)\")\n",
    "plt.ylabel(\"Position (m)\")\n",
    "plt.legend()\n",
    "plt.show()\n",
    "\n",
    "#Plot of x position in function of y position\n",
    "plt.plot(x_points, y_points, \"k\")\n",
    "plt.plot(0,0,\"ko\")\n",
    "plt.xlabel(\"Position en x (m)\")\n",
    "plt.ylabel(\"Position en y (m)\")\n",
    "plt.show()"
   ]
  },
  {
   "cell_type": "markdown",
   "metadata": {},
   "source": [
    "On constate que les résultats de position obtenus sont les mêmes que pour la méthode de Verlet. On constate cependant que l'erreur calculée est beaucoup plus petite avec cette méthode. En effet l'erreur obtenue pour la méthode de Bulirsch-Stoer est d'environ 300 m tandis que celle pour la méthode de Verlet est d'environ 80 km (soit plus de 250 fois plus grande). Le temps de calcul nécessaire est environ le même. On en conclut donc que la méthode de Bulirsch-Stoer est plus efficace pour le calcul d'équations différentielles ordinaires de second degré."
   ]
  },
  {
   "cell_type": "markdown",
   "metadata": {},
   "source": [
    "# Partie 3: Mars\n",
    "### h.\n",
    "Commençons par poser les constantes du problème, soit les positions et les vélocités de la date de lancement et la date d'atterrissage (pour comparer plus tard) venant d'une éphéméride de la planète Mars. Nous décomposons donc les données de date de lancement en x, y et z pour poser les conditions initiales du problème. (Les arrays de position et de vitesse sont transposés afin d'être sur une ligne horizontale plutôt qu'une colonne verticale, facilitant la gestion des données)"
   ]
  },
  {
   "cell_type": "code",
   "execution_count": null,
   "metadata": {},
   "outputs": [],
   "source": [
    "eph = Ephemeris(de421) \n",
    "\n",
    "# dates\n",
    "lancement=Time(\"2020-07-30\")\n",
    "atterissage=Time(\"2021-02-18\")\n",
    "\n",
    "# un nombre de jours juliens est attendu par la routine, d'ou le .jd position en km, vitesse en km par jour\n",
    "position, velocity = eph.position_and_velocity('mars',lancement.jd)\n",
    "p = transpose(position)\n",
    "v = transpose(velocity)\n",
    "\n",
    "#Definition of intial values for all variables\n",
    "x_0 = p[0,0]*1000 #intial x position (m)\n",
    "y_0 = p[0,1]*1000 #inital y position (m)\n",
    "z_0 = p[0,2]*1000#initial z position (m)\n",
    "vx_0 = v[0,0]*1000/86400 #initial x velocity (m/s)\n",
    "vy_0 = v[0,1]*1000/86400 #intial y velocity (m/s)\n",
    "vz_0 = v[0,2]*1000/86400#initial z velocity (m/s)"
   ]
  },
  {
   "cell_type": "markdown",
   "metadata": {},
   "source": [
    "Maintenant les fonctions essentielles sont posées: les arrays des points sont remise à zéro, l'équation du rayon de la position r de Mars en fonction des coordonnées x, y et z, l'équation de la gravité en fonction du rayon de position r et les constantes de taille de pas."
   ]
  },
  {
   "cell_type": "code",
   "execution_count": null,
   "metadata": {},
   "outputs": [],
   "source": [
    "x_points = []\n",
    "y_points = []\n",
    "z_points = []\n",
    "vx_points = []\n",
    "vy_points = []\n",
    "vz_points = []\n",
    "\n",
    "\n",
    "a = 0 #intial time (s)\n",
    "b = 86400*203 #final time (s) (203 days)\n",
    "N = 100000 #step size\n",
    "H = (b-a)/N \n",
    "delta = 3.1709792e-5 #conversion of km/year into m/s\n",
    "\n",
    "def r_func(x,y,z):\n",
    "    return sqrt(x**2 + y**2 + z**2)\n",
    "\n",
    "def f(r):\n",
    "    x = r[0]\n",
    "    y = r[1]\n",
    "    z = r[2]\n",
    "    v_x = r[3]\n",
    "    v_y= r[4]\n",
    "    v_z = r[5]\n",
    "    radius = r_func(x,y,z)\n",
    "    fx = v_x\n",
    "    fv_x = -GM*x/radius**3\n",
    "    fy = v_y\n",
    "    fv_y = -GM*y/radius**3\n",
    "    fz = v_z\n",
    "    fv_z = -GM*z/radius**3\n",
    "    return array([fx, fy, fz, fv_x, fv_y, fv_z], float)\n",
    "\n",
    "tpoints = arange(a,b,H) \n",
    "r = array([x_0, y_0, z_0, vx_0, vy_0, vz_0], float)  #array containing positions and velocities\n",
    "# Do the \"big steps\" of size H "
   ]
  },
  {
   "cell_type": "markdown",
   "metadata": {},
   "source": [
    "La méthode Bulirsch-Stoer est ensuite utilisée pour calculer la position de mars en fonction du temps sur les 203 jours entre le lancement et l'atterrissage pour en imprimer les positions et le graphique (x en bleu, y en vert et z en orange). Le positionnement de référence de l'éphéméride est aussi imprimé pour comparer avec les positions calculées."
   ]
  },
  {
   "cell_type": "code",
   "execution_count": null,
   "metadata": {
    "scrolled": true
   },
   "outputs": [],
   "source": [
    "for t in tpoints: \n",
    "    x_points.append(r[0])\n",
    "    y_points.append(r[1])\n",
    "    z_points.append(r[2])\n",
    "    # Do one modified mipoint step of size H \n",
    "    # to get things started \n",
    "    n = 1 \n",
    "    r1 = r + 0.5*H*f(r) \n",
    "    r2 = r + H*f(r1) \n",
    "    # The array R1 stores the first row of the \n",
    "    # extrapolation table, which contains only the single \n",
    "    # modified midpoint estimate of the solution at the \n",
    "    # end of the interval \n",
    "    R1 = empty([1,6], float) \n",
    "    R1[0] = 0.5*(r1 + r2 + 0.5*H*f(r2)) \n",
    "# Now increase n until the required accuracy is reached \n",
    "    error = 2*H*delta \n",
    "    while error>H*delta: \n",
    "        n += 1 \n",
    "        h = H/n \n",
    "        # Modified midpoint method \n",
    "        r1 = r + 0.5*h*f(r) \n",
    "        r2 = r + h*f(r1) \n",
    "        for i in range(n-1): \n",
    "            r1 += h*f(r2) \n",
    "            r2 += h*f (r1) \n",
    "        # Calculate extrapolation estimates. Arrays R1 and R2 \n",
    "        # hold the two most recent lines of the table \n",
    "        R2 = R1     \n",
    "        R1 = empty([n,6], float) \n",
    "        R1[0] = 0.5*(r1 + r2 + 0.5*h*f(r2)) \n",
    "        for m in range(1,n): \n",
    "            epsilon= (R1[m-1]-R2[m-1])/((n/(n-1))**(2*m)-1) \n",
    "            R1[m] = R1[m-1] + epsilon \n",
    "        error= abs(epsilon[0]) \n",
    "    # Set r equal to the most accurate estimate we have, \n",
    "    # before moving on to the next big step \n",
    "    r = R1[n-1] \n",
    "# Plot the results \n",
    "plt.plot(tpoints,x_points,label = \"Position en x\")\n",
    "plt.plot(tpoints,y_points,label = \"Position en y\")\n",
    "plt.plot(tpoints,z_points,label = \"Position en z\")\n",
    "plt.xlabel(\"temps (s)\")\n",
    "plt.ylabel(\"Position (m)\")\n",
    "plt.legend()\n",
    "plt.show()\n",
    "print('Position en x:',x_points[-1],'m', '\\nPosition en y:', y_points[-1],'m','\\nPosition en z:', z_points[-1],'m')\n",
    "print(eph.position('mars',atterissage.jd)*1000,'[m]')"
   ]
  },
  {
   "cell_type": "markdown",
   "metadata": {},
   "source": [
    "On peut voir plus haut que les positions finales calculées sont assez fidèles à celles de l'éphéméride en y et en z, mais l'axe x est assez loin de la position théorique. Ceci pourrait tout simplement être expliqué par la perturbation gravitationnelle qui est causée par la gravité des autres astres près de Mars. Cet effet devrait aussi être observé sur les autres axes, mais, comme on peut le voir sur le graphique, c'est sur l'axe des x que la planète Mars s'éloigne le plus du Soleil. Ainsi, la gravité du Soleil devient moins forte sur elle et les forces gravitationnelles des autres planètes deviennent moins négligeables sur la trajectoire de Mars. Donc, notre position est aussi loin de la position théorique tout simplement parce que la méthode utilisée dans cette simulation ne prend en compte que la force d'attraction du Soleil sur Mars et néglige la gravité entre Mars et les objets massique qui l'entoure."
   ]
  },
  {
   "cell_type": "markdown",
   "metadata": {},
   "source": [
    "# Références"
   ]
  },
  {
   "cell_type": "markdown",
   "metadata": {},
   "source": [
    "[1] M. E. Newman, Computational Physics. CreateSpace, 2013.\n",
    "\n",
    "[2] https://en.wikipedia.org/wiki/Jet_Propulsion_Laboratory_Development_Ephemeris"
   ]
  }
 ],
 "metadata": {
  "kernelspec": {
   "display_name": "Python 3",
   "language": "python",
   "name": "python3"
  },
  "language_info": {
   "codemirror_mode": {
    "name": "ipython",
    "version": 3
   },
   "file_extension": ".py",
   "mimetype": "text/x-python",
   "name": "python",
   "nbconvert_exporter": "python",
   "pygments_lexer": "ipython3",
   "version": "3.8.3"
  }
 },
 "nbformat": 4,
 "nbformat_minor": 4
}
