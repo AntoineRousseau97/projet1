{
 "cells": [
  {
   "cell_type": "markdown",
   "metadata": {},
   "source": [
    "# <p style=\"text-align:center\">Travail personel 3: Équations différentielles</p> #"
   ]
  },
  {
   "cell_type": "markdown",
   "metadata": {},
   "source": [
    "**Mathieu Dumais**, **Antoine Rousseau** et **Gabriel Lapointe**."
   ]
  },
  {
   "cell_type": "markdown",
   "metadata": {},
   "source": [
    "Présenté à **Philippe Després**."
   ]
  },
  {
   "cell_type": "markdown",
   "metadata": {},
   "source": [
    "Date: **19 mars 2021**."
   ]
  },
  {
   "cell_type": "markdown",
   "metadata": {
    "nteract": {
     "transient": {
      "deleting": false
     }
    }
   },
   "source": [
    "\n",
    "# Partie 1: Comètes\n",
    "### a."
   ]
  },
  {
   "cell_type": "markdown",
   "metadata": {},
   "source": [
    "\\begin{equation}\n",
    "    \\Rightarrow x=v_x\n",
    "\\end{equation}\n",
    "\\begin{equation}\n",
    "    \\Rightarrow y=v_y\n",
    "\\end{equation}\n",
    "\\begin{equation}\n",
    "    \\Rightarrow v_x=\\frac{GMx}{r^3}\n",
    "\\end{equation}\n",
    "\\begin{equation}\n",
    "    \\Rightarrow v_y=\\frac{GMy}{r^3}\n",
    "\\end{equation}"
   ]
  },
  {
   "cell_type": "markdown",
   "metadata": {},
   "source": [
    "### b."
   ]
  },
  {
   "cell_type": "code",
   "execution_count": 2,
   "metadata": {},
   "outputs": [
    {
     "data": {
      "image/png": "[encoded data removed]",
      "text/plain": [
       "<Figure size 432x288 with 1 Axes>"
      ]
     },
     "metadata": {
      "needs_background": "light"
     },
     "output_type": "display_data"
    }
   ],
   "source": [
    "from astropy.constants import G, M_sun #(m3 / (kg s2) and kg)\n",
    "from numpy import array, sqrt, arange\n",
    "import matplotlib.pyplot as plt\n",
    "           \n",
    "def r_func(x,y):\n",
    "    return sqrt(x**2 + y**2)\n",
    "\n",
    "def f(r,t):\n",
    "    x = r[0]\n",
    "    y = r[1]\n",
    "    v_x = r[2]\n",
    "    v_y= r[3]\n",
    "    radius = r_func(x,y)\n",
    "    fx = v_x\n",
    "    fv_x = -GM*x/radius**3\n",
    "    fy = v_y\n",
    "    fv_y = -GM*y/radius**3\n",
    "    \n",
    "    return array([fx, fy, fv_x, fv_y], float)\n",
    "\n",
    "def append_all(r):\n",
    "    x_points.append(r[0])\n",
    "    y_points.append(r[1])\n",
    "    vx_points.append(r[2])\n",
    "    vy_points.append(r[3])\n",
    "    \n",
    "\n",
    "GM = G.value*M_sun.value\n",
    "\n",
    "x_points = []\n",
    "y_points = []\n",
    "vx_points = []\n",
    "vy_points = []\n",
    "\n",
    "x_0 = 4e12 #m\n",
    "y_0 = 0 #m\n",
    "vx_0 = 0 #m/s\n",
    "vy_0 = 500 #m/s\n",
    "r = array([x_0, y_0, vx_0, vy_0], float)    \n",
    "\n",
    "a = 0\n",
    "b = 31536000*100\n",
    "N = 100000\n",
    "h = (b-a)/N   \n",
    "tpoints = arange(a,b,h)\n",
    "\n",
    "for t in tpoints:\n",
    "    append_all(r)\n",
    "    k1 = h*f(r,t)\n",
    "    k2 = h*f(r+0.5*k1,t+0.5*h)\n",
    "    k3 = h*f(r+0.5*k2,t+0.5*h)\n",
    "    k4 = h*f(r+k3,t+h) \n",
    "    r += (k1+2*k2+2*k3+k4)/6 \n",
    "    \n",
    "plt.plot(tpoints, x_points)\n",
    "plt.show()"
   ]
  },
  {
   "cell_type": "markdown",
   "metadata": {},
   "source": [
    "### c."
   ]
  },
  {
   "cell_type": "code",
   "execution_count": null,
   "metadata": {},
   "outputs": [],
   "source": []
  },
  {
   "cell_type": "markdown",
   "metadata": {},
   "source": [
    "# Partie 2: La Terre\n",
    "### d."
   ]
  },
  {
   "cell_type": "code",
   "execution_count": null,
   "metadata": {},
   "outputs": [],
   "source": []
  },
  {
   "cell_type": "markdown",
   "metadata": {},
   "source": [
    "### e."
   ]
  },
  {
   "cell_type": "code",
   "execution_count": null,
   "metadata": {},
   "outputs": [],
   "source": []
  },
  {
   "cell_type": "markdown",
   "metadata": {},
   "source": [
    "### f."
   ]
  },
  {
   "cell_type": "code",
   "execution_count": null,
   "metadata": {},
   "outputs": [],
   "source": []
  },
  {
   "cell_type": "markdown",
   "metadata": {},
   "source": [
    "### g."
   ]
  },
  {
   "cell_type": "code",
   "execution_count": null,
   "metadata": {},
   "outputs": [],
   "source": []
  },
  {
   "cell_type": "markdown",
   "metadata": {},
   "source": [
    "# Partie 3: Mars"
   ]
  },
  {
   "cell_type": "code",
   "execution_count": null,
   "metadata": {},
   "outputs": [],
   "source": []
  },
  {
   "cell_type": "markdown",
   "metadata": {},
   "source": [
    "# Références"
   ]
  },
  {
   "cell_type": "markdown",
   "metadata": {},
   "source": [
    "[1] M. E. Newman, Computational Physics. CreateSpace, 2013."
   ]
  }
 ],
 "metadata": {
  "kernelspec": {
   "display_name": "Python 3",
   "language": "python",
   "name": "python3"
  },
  "language_info": {
   "codemirror_mode": {
    "name": "ipython",
    "version": 3
   },
   "file_extension": ".py",
   "mimetype": "text/x-python",
   "name": "python",
   "nbconvert_exporter": "python",
   "pygments_lexer": "ipython3",
   "version": "3.7.4"
  }
 },
 "nbformat": 4,
 "nbformat_minor": 4
}
