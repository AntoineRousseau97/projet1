{
 "cells": [
  {
   "cell_type": "markdown",
   "metadata": {},
   "source": [
    "# <p style=\"text-align:center\">Travail personel 3: Équations différentielles</p> #"
   ]
  },
  {
   "cell_type": "markdown",
   "metadata": {},
   "source": [
    "**Mathieu Dumais**, **Antoine Rousseau** et **Gabriel Lapointe**."
   ]
  },
  {
   "cell_type": "markdown",
   "metadata": {},
   "source": [
    "Présenté à **Philippe Després**."
   ]
  },
  {
   "cell_type": "markdown",
   "metadata": {},
   "source": [
    "Date: **19 mars 2021**."
   ]
  },
  {
   "cell_type": "markdown",
   "metadata": {
    "nteract": {
     "transient": {
      "deleting": false
     }
    }
   },
   "source": [
    "\n",
    "# Partie 1: Comètes\n",
    "### a."
   ]
  },
  {
   "cell_type": "markdown",
   "metadata": {},
   "source": [
    "### b."
   ]
  },
  {
   "cell_type": "code",
   "execution_count": 1,
   "metadata": {},
   "outputs": [],
   "source": [
    "from astropy.constants import G, M_sun, M_earth #(m3 / (kg s2) and kg)\n",
    "from numpy import array, sqrt, arange, empty, transpose\n",
    "import matplotlib.pyplot as plt\n",
    "from astropy.time import Time # ephemerides\n",
    "import de421\n",
    "from jplephem import Ephemeris"
   ]
  },
  {
   "cell_type": "code",
   "execution_count": 2,
   "metadata": {},
   "outputs": [],
   "source": [
    "#function that calculates the radius with x and y     \n",
    "def r_func(x,y):\n",
    "    return sqrt(x**2 + y**2)\n",
    "\n",
    "def f(r,t):\n",
    "    x = r[0]\n",
    "    y = r[1]\n",
    "    v_x = r[2]\n",
    "    v_y= r[3]\n",
    "    radius = r_func(x,y)\n",
    "    fx = v_x\n",
    "    fv_x = -GM*x/radius**3\n",
    "    fy = v_y\n",
    "    fv_y = -GM*y/radius**3\n",
    "    \n",
    "    return array([fx, fy, fv_x, fv_y], float)\n",
    "\n",
    "def append_all(r):\n",
    "    x_points.append(r[0])\n",
    "    y_points.append(r[1])\n",
    "    vx_points.append(r[2])\n",
    "    vy_points.append(r[3])"
   ]
  },
  {
   "cell_type": "code",
   "execution_count": 3,
   "metadata": {},
   "outputs": [],
   "source": [
    "GM = G.value*M_sun.value\n",
    "x_points = []\n",
    "y_points = []\n",
    "vx_points = []\n",
    "vy_points = []\n",
    "\n",
    "x_0 = 4e12 #m\n",
    "y_0 = 0 #m\n",
    "vx_0 = 0 #m/s\n",
    "vy_0 = 500 #m/s\n",
    "r = array([x_0, y_0, vx_0, vy_0], float)    \n",
    "\n",
    "a = 0\n",
    "b = 31536000*100\n",
    "N = 100000\n",
    "h = (b-a)/N   \n",
    "tpoints = arange(a,b,h)"
   ]
  },
  {
   "cell_type": "code",
   "execution_count": 4,
   "metadata": {},
   "outputs": [
    {
     "data": {
      "image/png": "[encoded data removed]",
      "text/plain": [
       "<Figure size 432x288 with 1 Axes>"
      ]
     },
     "metadata": {
      "needs_background": "light"
     },
     "output_type": "display_data"
    }
   ],
   "source": [
    "for t in tpoints:\n",
    "    append_all(r)\n",
    "    k1 = h*f(r,t)\n",
    "    k2 = h*f(r+0.5*k1,t+0.5*h)\n",
    "    k3 = h*f(r+0.5*k2,t+0.5*h)\n",
    "    k4 = h*f(r+k3,t+h) \n",
    "    r += (k1+2*k2+2*k3+k4)/6 \n",
    "    \n",
    "plt.plot(tpoints, x_points)\n",
    "plt.show()"
   ]
  },
  {
   "cell_type": "markdown",
   "metadata": {},
   "source": [
    "### c."
   ]
  },
  {
   "cell_type": "code",
   "execution_count": null,
   "metadata": {},
   "outputs": [],
   "source": []
  },
  {
   "cell_type": "markdown",
   "metadata": {},
   "source": [
    "# Partie 2: La Terre\n",
    "### d.\n",
    "Ici la technique de Verlet a été utilisé pour calculer l'orbite de la terre autour du soleil. Les fonctions f et append_all sont premièrement redéfini afin de séparer les positions (x, y) et les vitesses ($v_{x}$, $v_{y}$) dans deux arrays. Cela facilite les calcules plus tard"
   ]
  },
  {
   "cell_type": "code",
   "execution_count": 5,
   "metadata": {},
   "outputs": [],
   "source": [
    "#function calculating the RHS of all 4 1st order ODEs\n",
    "def f(r, v, t):\n",
    "    x = r[0]\n",
    "    y = r[1]\n",
    "    v_x = v[0]\n",
    "    v_y= v[1]\n",
    "    radius = r_func(x,y)\n",
    "    fx = v_x\n",
    "    fv_x = -GM*x/radius**3\n",
    "    fy = v_y\n",
    "    fv_y = -GM*y/radius**3\n",
    "    \n",
    "    return array([fx, fy], float), array([fv_x, fv_y], float)\n",
    "\n",
    "#function appending each part of vector r and v to the correct list\n",
    "def append_all(r, v):\n",
    "    x_points.append(r[0])\n",
    "    y_points.append(r[1])\n",
    "    vx_points.append(v[0])\n",
    "    vy_points.append(v[1])"
   ]
  },
  {
   "cell_type": "markdown",
   "metadata": {},
   "source": [
    "On redéfini maintenant valeurs initiales pour le problème présent. Le step size ainsi que Tf sont aussi redéfini."
   ]
  },
  {
   "cell_type": "code",
   "execution_count": 6,
   "metadata": {},
   "outputs": [],
   "source": [
    "x_points = []\n",
    "y_points = []\n",
    "vx_points = []\n",
    "vy_points = []\n",
    "\n",
    "#Definition of intial values for all variables\n",
    "x_0 = 1.4710e11 #intial x position (m)\n",
    "y_0 = 0 #inital y position (m)\n",
    "vx_0 = 0 #initial x velocity (m/s)\n",
    "vy_0 = 3.0287e4 #intial y velocity (m/s)\n",
    "r = array([x_0, y_0], float)  #array containing x and y position\n",
    "v = array([vx_0, vy_0], float) #array containing x and y velocity\n",
    "\n",
    "a = 0 #intial time (s)\n",
    "b = 31536000*3 #final time (s) (3 years)\n",
    "h = 3600 #step size (1 hour in seconds)\n",
    "tpoints = arange(a,b,h) "
   ]
  },
  {
   "cell_type": "markdown",
   "metadata": {},
   "source": [
    "On peut maintenant calculer l'orbite grâce à la méthode de Verlet."
   ]
  },
  {
   "cell_type": "code",
   "execution_count": 7,
   "metadata": {},
   "outputs": [
    {
     "data": {
      "image/png": "[encoded data removed]",
      "text/plain": [
       "<Figure size 432x288 with 1 Axes>"
      ]
     },
     "metadata": {
      "needs_background": "light"
     },
     "output_type": "display_data"
    },
    {
     "data": {
      "image/png": "[encoded data removed]",
      "text/plain": [
       "<Figure size 432x288 with 1 Axes>"
      ]
     },
     "metadata": {
      "needs_background": "light"
     },
     "output_type": "display_data"
    }
   ],
   "source": [
    "v_int = v + 0.5*h*f(r,v,0)[1] #initialization of v(t+1/2h)\n",
    "\n",
    "for t in tpoints:\n",
    "    append_all(r,v)\n",
    "    r += h*v_int #r(t+h)\n",
    "    k = h*f(r,v,t)[1] #k\n",
    "    v = v_int + 0.5*k #v(t+h)\n",
    "    v_int += k #v(t+3/2h)\n",
    "    \n",
    "#Plot of x position and y position in function of time\n",
    "plt.plot(tpoints, x_points, color = \"k\", label = \"Position en x\")\n",
    "plt.plot(tpoints, y_points, color = \"r\", label = \"Position en y\")\n",
    "plt.xlabel(\"Temps (s)\")\n",
    "plt.ylabel(\"Position (m)\")\n",
    "plt.legend()\n",
    "plt.show()\n",
    "\n",
    "#Plot of x position in function of y position\n",
    "plt.plot(x_points, y_points, \"k\")\n",
    "plt.plot(0,0,\"ko\")\n",
    "plt.xlabel(\"Position en x (m)\")\n",
    "plt.ylabel(\"Position en y (m)\")\n",
    "plt.show()"
   ]
  },
  {
   "cell_type": "markdown",
   "metadata": {},
   "source": [
    "Le premier graphique présente la position en x et la positio en y de la terre par rapport au soleil en fonction du temps. On constate trois orbites (3 périodes) pour un temps de 3 ans ce qui était attendu. Le second graphique présente la position de la terre sur le plan (x,y). Les troix orbites sont présentes dans cette figure mais sont superposées. Il est à noté aussi que l'orbite est presque circulaire (la forme de la figure la fait sembler plus ovale)"
   ]
  },
  {
   "cell_type": "markdown",
   "metadata": {},
   "source": [
    "### e.\n",
    "Les mêmes fonctions sont utilisés pour calculer l'énergie cinétique et potentiel de la terre. On rajoute simplement ces deux calcules à la boucle. On commence par définir la masse de la terre ainsi que des listes vides pour les deux énergies"
   ]
  },
  {
   "cell_type": "code",
   "execution_count": 8,
   "metadata": {},
   "outputs": [],
   "source": [
    "m = M_earth.value #Earth Mass\n",
    "Ke = [] #Kinetic Energy List\n",
    "U = [] #Potential Energy List\n",
    "\n",
    "x_points = []\n",
    "y_points = []\n",
    "vx_points = []\n",
    "vy_points = []"
   ]
  },
  {
   "cell_type": "markdown",
   "metadata": {},
   "source": [
    "On execute ensuite le même code que précedemment en ajoutant le calcule de l'énergie cinétique et de l'énergie potentiel à chaque itération. Deux graphiques sont ensuite fait. Le premier présente l'énergie cinétique, l'énergie potentiel ainsi que l'énergie totale (la somme des deux) en fonction du temps. Le deuxième graphique présente l'énergie totale seule."
   ]
  },
  {
   "cell_type": "code",
   "execution_count": 9,
   "metadata": {},
   "outputs": [
    {
     "ename": "NameError",
     "evalue": "name 'E_tot' is not defined",
     "output_type": "error",
     "traceback": [
      "\u001b[1;31m---------------------------------------------------------------------------\u001b[0m",
      "\u001b[1;31mNameError\u001b[0m                                 Traceback (most recent call last)",
      "\u001b[1;32m<ipython-input-9-d143daf36b44>\u001b[0m in \u001b[0;36m<module>\u001b[1;34m\u001b[0m\n\u001b[0;32m     12\u001b[0m \u001b[0mplt\u001b[0m\u001b[1;33m.\u001b[0m\u001b[0mplot\u001b[0m\u001b[1;33m(\u001b[0m\u001b[0mtpoints\u001b[0m\u001b[1;33m,\u001b[0m \u001b[0mKe\u001b[0m\u001b[1;33m,\u001b[0m \u001b[1;34m\"k\"\u001b[0m\u001b[1;33m,\u001b[0m \u001b[0mlabel\u001b[0m \u001b[1;33m=\u001b[0m \u001b[1;34m\"Énergie cinétique\"\u001b[0m\u001b[1;33m)\u001b[0m\u001b[1;33m\u001b[0m\u001b[1;33m\u001b[0m\u001b[0m\n\u001b[0;32m     13\u001b[0m \u001b[0mplt\u001b[0m\u001b[1;33m.\u001b[0m\u001b[0mplot\u001b[0m\u001b[1;33m(\u001b[0m\u001b[0mtpoints\u001b[0m\u001b[1;33m,\u001b[0m \u001b[0mU\u001b[0m\u001b[1;33m,\u001b[0m \u001b[1;34m\"r\"\u001b[0m\u001b[1;33m,\u001b[0m \u001b[0mlabel\u001b[0m \u001b[1;33m=\u001b[0m \u001b[1;34m\"Énergie potentielle\"\u001b[0m\u001b[1;33m)\u001b[0m\u001b[1;33m\u001b[0m\u001b[1;33m\u001b[0m\u001b[0m\n\u001b[1;32m---> 14\u001b[1;33m \u001b[0mplt\u001b[0m\u001b[1;33m.\u001b[0m\u001b[0mplot\u001b[0m\u001b[1;33m(\u001b[0m\u001b[0mtpoints\u001b[0m\u001b[1;33m,\u001b[0m \u001b[0mE_tot\u001b[0m\u001b[1;33m,\u001b[0m \u001b[1;34m\"k--\"\u001b[0m\u001b[1;33m,\u001b[0m \u001b[0mlabel\u001b[0m \u001b[1;33m=\u001b[0m \u001b[1;34m\"Énergie totale\"\u001b[0m\u001b[1;33m)\u001b[0m\u001b[1;33m\u001b[0m\u001b[1;33m\u001b[0m\u001b[0m\n\u001b[0m\u001b[0;32m     15\u001b[0m \u001b[0mplt\u001b[0m\u001b[1;33m.\u001b[0m\u001b[0mxlabel\u001b[0m\u001b[1;33m(\u001b[0m\u001b[1;34m\"Temps (s)\"\u001b[0m\u001b[1;33m)\u001b[0m\u001b[1;33m\u001b[0m\u001b[1;33m\u001b[0m\u001b[0m\n\u001b[0;32m     16\u001b[0m \u001b[0mplt\u001b[0m\u001b[1;33m.\u001b[0m\u001b[0mylabel\u001b[0m\u001b[1;33m(\u001b[0m\u001b[1;34m\"Énergie (J)\"\u001b[0m\u001b[1;33m)\u001b[0m\u001b[1;33m\u001b[0m\u001b[1;33m\u001b[0m\u001b[0m\n",
      "\u001b[1;31mNameError\u001b[0m: name 'E_tot' is not defined"
     ]
    },
    {
     "data": {
      "image/png": "[encoded data removed]",
      "text/plain": [
       "<Figure size 432x288 with 1 Axes>"
      ]
     },
     "metadata": {
      "needs_background": "light"
     },
     "output_type": "display_data"
    }
   ],
   "source": [
    "v_int = v + 0.5*h*f(r,v,0)[1] #initialization of v(t+1/2h)\n",
    "\n",
    "for t in tpoints:\n",
    "    append_all(r,v)\n",
    "    Ke += [0.5 * m * (v[0] ** 2 + v[1] ** 2)] # Kinectic Energy (J)\n",
    "    U += [-GM*m/r_func(r[0], r[1])] # Potential Energy (J)\n",
    "    r += h*v_int #r(t+h)\n",
    "    k = h*f(r,v,t)[1] #k\n",
    "    v = v_int + 0.5*k #v(t+h)\n",
    "    v_int += k #v(t+3/2h)\n",
    "    \n",
    "plt.plot(tpoints, Ke, \"k\", label = \"Énergie cinétique\")\n",
    "plt.plot(tpoints, U, \"r\", label = \"Énergie potentielle\")\n",
    "plt.plot(tpoints, E_tot, \"k--\", label = \"Énergie totale\")\n",
    "plt.xlabel(\"Temps (s)\")\n",
    "plt.ylabel(\"Énergie (J)\")\n",
    "plt.legend()\n",
    "plt.title(\"Bilan d'énergie\")\n",
    "plt.show()\n",
    "\n",
    "#Plot of E_tot alone\n",
    "plt.plot(tpoints, E_tot, \"k\")\n",
    "plt.xlabel(\"Temps (s)\")\n",
    "plt.ylabel(\"Énergie (J)\")\n",
    "plt.ticklabel_format(useOffset=False)\n",
    "plt.title(\"Énergie totale en fonction du temps\")\n",
    "plt.show()"
   ]
  },
  {
   "cell_type": "markdown",
   "metadata": {},
   "source": [
    "On constate du premier graphique que les énergies potentiels et cinétiques oscillent au courant d'un orbite mais que l'énergie totale semble constante c'est ce qui est était attendu. On constate de la deuxième figure que l'énergie totale oscille très légèrement (voir axe y) lors d'un orbite. L'énergie totale revient cependant toujours à la même valeur. Cela était attendu puisque la méthode de Verlet conserve l'énergie."
   ]
  },
  {
   "cell_type": "markdown",
   "metadata": {},
   "source": [
    "### f.\n",
    "\n",
    "Pour cette partie les fonctions f et append_all sont redéfini de nouveaux afin que le vecteur r contiennent les positions ainsi que les vitesses. Cela facilite le étapes suivantes. Les conditions intitiales utilsées sont les mêmes qu'en d et e et n'ont donc pas besoin d'être défini de nouveau."
   ]
  },
  {
   "cell_type": "code",
   "execution_count": null,
   "metadata": {},
   "outputs": [],
   "source": [
    "def f(r,t):\n",
    "    x = r[0]\n",
    "    y = r[1]\n",
    "    v_x = r[2]\n",
    "    v_y= r[3]\n",
    "    radius = r_func(x,y)\n",
    "    fx = v_x\n",
    "    fv_x = -GM*x/radius**3\n",
    "    fy = v_y\n",
    "    fv_y = -GM*y/radius**3\n",
    "    \n",
    "    return array([fx, fy, fv_x, fv_y], float)\n",
    "\n",
    "def append_all(r):\n",
    "    x_points.append(r[0])\n",
    "    y_points.append(r[1])\n",
    "    vx_points.append(r[2])\n",
    "    vy_points.append(r[3])"
   ]
  },
  {
   "cell_type": "markdown",
   "metadata": {},
   "source": [
    "L'array r doit être redéfini afin de concorder avec la définition des fonctions f(r,t) et append_all. Les listes contenant les positions et vitesses sont aussi vidées. Les valeurs obtenues avec la méthode de Verlet sont conservées afin de pouvoir les comparer."
   ]
  },
  {
   "cell_type": "code",
   "execution_count": null,
   "metadata": {},
   "outputs": [],
   "source": [
    "r = array([x_0, y_0, vx_0, vy_0])\n",
    "x_verlet, y_verlet = x_points, y_points\n",
    "vx_verlet, vy_verlet = vx_points, vy_points\n",
    "x_points = []\n",
    "y_points = []\n",
    "vx_points = []\n",
    "vy_points = []"
   ]
  },
  {
   "cell_type": "markdown",
   "metadata": {},
   "source": [
    "On utilise maintenant la méthode RK2 afin de calculer nos données. "
   ]
  },
  {
   "cell_type": "code",
   "execution_count": null,
   "metadata": {},
   "outputs": [],
   "source": [
    "for t in tpoints:\n",
    "    append_all(r)\n",
    "    k1 = h*f(r,t)\n",
    "    k2 = h*f(r + 0.5*k1, t+0.5*h)\n",
    "    r += k2\n",
    "\n",
    "#Plot of x position and y position in function of time\n",
    "plt.plot(tpoints, x_points, color = \"k\", label = \"Méthode RK2\")\n",
    "plt.plot(tpoints, x_verlet, color = \"b\", label = \"Méthode de Verlet\")\n",
    "plt.xlabel(\"temps (s)\")\n",
    "plt.ylabel(\"Position (m)\")\n",
    "plt.legend()\n",
    "plt.show()\n",
    "\n",
    "#Plot of x position in function of y position\n",
    "plt.plot(x_points, y_points, color = \"k\", label = \"Méthode RK2\")\n",
    "plt.plot(x_verlet, y_verlet, color = \"r\", label = \"Méthode de Verlet\")\n",
    "plt.plot(0,0,\"ko\")\n",
    "plt.legend()\n",
    "plt.xlabel(\"Position en x (m)\")\n",
    "plt.ylabel(\"Position en y (m)\")\n",
    "plt.show()"
   ]
  },
  {
   "cell_type": "code",
   "execution_count": null,
   "metadata": {},
   "outputs": [],
   "source": []
  },
  {
   "cell_type": "code",
   "execution_count": null,
   "metadata": {},
   "outputs": [],
   "source": []
  },
  {
   "cell_type": "markdown",
   "metadata": {},
   "source": [
    "### g."
   ]
  },
  {
   "cell_type": "code",
   "execution_count": null,
   "metadata": {},
   "outputs": [],
   "source": []
  },
  {
   "cell_type": "markdown",
   "metadata": {},
   "source": [
    "# Partie 3: Mars\n",
    "### h.\n",
    "Commençons par poser les constantes du problème, soit les positions et les vélocités de la date de lancement et la date d'attérissage (pour comparer plus tard) venant d'un éphéméride de la planète Mars. Nous décomposons donc les données de date de lancement en x, y et z pour poser les conditions initiales du problème."
   ]
  },
  {
   "cell_type": "code",
   "execution_count": 17,
   "metadata": {},
   "outputs": [],
   "source": [
    "eph = Ephemeris(de421) \n",
    "\n",
    "# dates\n",
    "lancement=Time(\"2020-07-30\")\n",
    "atterissage=Time(\"2021-02-18\")\n",
    "\n",
    "# un nombre de jours juliens est attendu par la routine, d'ou le .jd position en km, vitesse en km par jour\n",
    "position, velocity = eph.position_and_velocity('mars',lancement.jd)\n",
    "p = transpose(position)\n",
    "v = transpose(velocity)\n",
    "\n",
    "#Definition of intial values for all variables\n",
    "x_0 = p[0,0]*1000 #intial x position (m)\n",
    "y_0 = p[0,1]*1000 #inital y position (m)\n",
    "z_0 = p[0,2]*1000#initial z position (m)\n",
    "vx_0 = v[0,0]*1000/86400 #initial x velocity (m/s)\n",
    "vy_0 = v[0,1]*1000/86400 #intial y velocity (m/s)\n",
    "vz_0 = v[0,2]*1000/86400#initial z velocity (m/s)"
   ]
  },
  {
   "cell_type": "markdown",
   "metadata": {},
   "source": [
    "Maintenant les fonctions essentiels sont poser: les arrays des points sont remise à zéro, l'équation du rayon de la position r de Mars en fonction des coordonnées x, y et z, l'équation de la gravité en fonction du rayon de position r et les constantes de taille de pas."
   ]
  },
  {
   "cell_type": "code",
   "execution_count": 18,
   "metadata": {},
   "outputs": [],
   "source": [
    "x_points = []\n",
    "y_points = []\n",
    "z_points = []\n",
    "vx_points = []\n",
    "vy_points = []\n",
    "vz_points = []\n",
    "\n",
    "\n",
    "a = 0 #intial time (s)\n",
    "b = 86400*203 #final time (s) (203 days)\n",
    "N = 100000 #step size\n",
    "H = (b-a)/N \n",
    "delta = 3.1709792e-5 #conversion of km/year into m/s\n",
    "\n",
    "def r_func(x,y,z):\n",
    "    return sqrt(x**2 + y**2 + z**2)\n",
    "\n",
    "def f(r):\n",
    "    x = r[0]\n",
    "    y = r[1]\n",
    "    z = r[2]\n",
    "    v_x = r[3]\n",
    "    v_y= r[4]\n",
    "    v_z = r[5]\n",
    "    radius = r_func(x,y,z)\n",
    "    fx = v_x\n",
    "    fv_x = -GM*x/radius**3\n",
    "    fy = v_y\n",
    "    fv_y = -GM*y/radius**3\n",
    "    fz = v_z\n",
    "    fv_z = -GM*z/radius**3\n",
    "    return array([fx, fy, fz, fv_x, fv_y, fv_z], float)\n",
    "\n",
    "tpoints = arange(a,b,H) \n",
    "r = array([x_0, y_0, z_0, vx_0, vy_0, vz_0], float)  #array containing positions and velocities\n",
    "# Do the \"big steps\" of size H "
   ]
  },
  {
   "cell_type": "markdown",
   "metadata": {},
   "source": [
    "La méthode Bulirsch-Stoer est ensuite utiliser pour calculer la position de mars en fonction du temps sur les 203 jours entre le lancement et l'attérissage pour en imprimé les positions et le graphique (x en bleu, y en vert et z en orange). Le positionnement de référence de l'éphéméride est aussi imprimé pour comparer avec les positions calculées."
   ]
  },
  {
   "cell_type": "code",
   "execution_count": 19,
   "metadata": {},
   "outputs": [
    {
     "data": {
      "image/png": "[encoded data removed]",
      "text/plain": [
       "<Figure size 432x288 with 1 Axes>"
      ]
     },
     "metadata": {
      "needs_background": "light"
     },
     "output_type": "display_data"
    },
    {
     "name": "stdout",
     "output_type": "stream",
     "text": [
      "Position en x: -5473204513.144693 m \n",
      "Position en y: 210811870477.77356 m \n",
      "Position en z: 96861499317.2531 m\n",
      "[[-1.94538523e+09]\n",
      " [ 2.14280417e+11]\n",
      " [ 9.83090643e+10]] (en mêtre)\n"
     ]
    }
   ],
   "source": [
    "for t in tpoints: \n",
    "    x_points.append(r[0])\n",
    "    y_points.append(r[1])\n",
    "    z_points.append(r[2])\n",
    "    # Do one modified mipoint step of size H \n",
    "    # to get things started \n",
    "    n = 1 \n",
    "    r1 = r + 0.5*H*f(r) \n",
    "    r2 = r + H*f(r1) \n",
    "    # The array R1 stores the first row of the \n",
    "    # extrapolation table, which contains only the single \n",
    "    # modified midpoint estimate of the solution at the \n",
    "    # end of the interval \n",
    "    R1 = empty([1,6], float) \n",
    "    R1[0] = 0.5*(r1 + r2 + 0.5*H*f(r2)) \n",
    "# Now increase n until the required accuracy is reached \n",
    "    error = 2*H*delta \n",
    "    while error>H*delta: \n",
    "        n += 1 \n",
    "        h = H/n \n",
    "        # Modified midpoint method \n",
    "        r1 = r + 0.5*h*f(r) \n",
    "        r2 = r + h*f(r1) \n",
    "        for i in range(n-1): \n",
    "            r1 += h*f(r2) \n",
    "            r2 += h*f (r1) \n",
    "        # Calculate extrapolation estimates. Arrays R1 and R2 \n",
    "        # hold the two most recent lines of the table \n",
    "        R2 = R1     \n",
    "        R1 = empty([n,6], float) \n",
    "        R1[0] = 0.5*(r1 + r2 + 0.5*h*f(r2)) \n",
    "        for m in range(1,n): \n",
    "            epsilon= (R1[m-1]-R2[m-1])/((n/(n-1))**(2*m)-1) \n",
    "            R1[m] = R1[m-1] + epsilon \n",
    "        error= abs(epsilon[0]) \n",
    "    # Set r equal to the most accurate estimate we have, \n",
    "    # before moving on to the next big step \n",
    "    r = R1[n-1] \n",
    "# Plot the results \n",
    "plt.plot(tpoints,x_points)\n",
    "plt.plot(tpoints,y_points)\n",
    "plt.plot(tpoints,z_points) \n",
    "plt.show()\n",
    "print('Position en x:',x_points[-1],'m', '\\nPosition en y:', y_points[-1],'m','\\nPosition en z:', z_points[-1],'m')\n",
    "print(eph.position('mars',atterissage.jd)*1000,'(en mêtre)')"
   ]
  },
  {
   "cell_type": "markdown",
   "metadata": {},
   "source": [
    "On peut voir plus haut que les positions finales calculées sont assez fidèles à celles de l'éphéméride en y et en z, mais l'axes x est assez loins de la position théorique. Ceci pourrait tout simplement être expliquer par la perturbation gravitationnel qui est causé par la gravité des autres astres près de Mars. Cette effet devrais aussi être observé sur l'axes, mais, comme on peut le voir sur le graphique, c'est sur l'axe des x que la planète Mars s'éloigne le plus du Soleil. Ainsi, la gravtié du Soleil devient moins forte sur elle et les forces gravitationnelles des autres planètes deviennent moins négligeable sur la trajectoire de Mars. Donc, notre position est aussi loins de la position théorique tout simplement parce que la méthode utilisé dans cette simulation ne prend en compte que la force d'attraction du Soleil sur Mars et néglige la gravité entre Mars et les objets massique qui l'entoure."
   ]
  },
  {
   "cell_type": "markdown",
   "metadata": {},
   "source": [
    "# Références"
   ]
  },
  {
   "cell_type": "markdown",
   "metadata": {},
   "source": [
    "[1] M. E. Newman, Computational Physics. CreateSpace, 2013."
   ]
  }
 ],
 "metadata": {
  "kernelspec": {
   "display_name": "Python 3",
   "language": "python",
   "name": "python3"
  },
  "language_info": {
   "codemirror_mode": {
    "name": "ipython",
    "version": 3
   },
   "file_extension": ".py",
   "mimetype": "text/x-python",
   "name": "python",
   "nbconvert_exporter": "python",
   "pygments_lexer": "ipython3",
   "version": "3.7.4"
  }
 },
 "nbformat": 4,
 "nbformat_minor": 4
}
